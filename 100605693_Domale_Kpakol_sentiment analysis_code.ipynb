{
 "cells": [
  {
   "cell_type": "markdown",
   "id": "43b72dca",
   "metadata": {},
   "source": [
    "## THIS IS THE SENTIMENT ANALYSIS MODELS CREATED ON MOVIE REVIEWS.MODELS CAN BE USED FOR PRODUCT DESIGNS, SENTIMENT RATING INFLUENCE AND NEXT MOVIE PRODUCTION. \n",
    "\n",
    "## TWO DIFFERENT ANALYSIS WERE DONE\n",
    "\n",
    "## Supervised machine learning algorithms\n",
    "* Logistic regreesion\n",
    "* Multinomial Naive Bayes\n",
    "\n",
    "## Deep learning algorithms\n",
    "* Convolutional Neural Networks\n",
    "* Long-term-short memory"
   ]
  },
  {
   "cell_type": "markdown",
   "id": "e26e0022",
   "metadata": {},
   "source": [
    "## link to data \n",
    "* for deep learning \n",
    "* https://raw.githubusercontent.com/jbrownlee/Datasets/master/review_polarity.tar.gz"
   ]
  },
  {
   "cell_type": "code",
   "execution_count": 1,
   "id": "4b5fd0e9",
   "metadata": {},
   "outputs": [],
   "source": [
    "# few more installations of libraries\n",
    "\n",
    "#Install some libraries\n",
    "#pip install --upgrade keras\n",
    "#!pip install  WordCloud\n",
    "#nltk.download(\"punkt\")"
   ]
  },
  {
   "cell_type": "markdown",
   "id": "e22fab3e",
   "metadata": {},
   "source": [
    "## Import neccessary library"
   ]
  },
  {
   "cell_type": "code",
   "execution_count": 353,
   "id": "e2bed0b1",
   "metadata": {},
   "outputs": [],
   "source": [
    "import numpy as np\n",
    "import pandas as pd\n",
    "import matplotlib.pyplot as plt\n",
    "%matplotlib inline\n",
    "import seaborn as sns\n",
    "import nltk\n",
    "from sklearn.feature_extraction.text import CountVectorizer\n",
    "from sklearn.feature_extraction.text import TfidfVectorizer\n",
    "from sklearn.preprocessing import LabelBinarizer\n",
    "from nltk.corpus import stopwords\n",
    "from nltk.tokenize.toktok import ToktokTokenizer\n",
    "from nltk.stem.porter import PorterStemmer\n",
    "from wordcloud import WordCloud,STOPWORDS\n",
    "from nltk.stem import WordNetLemmatizer\n",
    "from nltk.tokenize import word_tokenize,sent_tokenize\n",
    "\n",
    "from bs4 import BeautifulSoup\n",
    "#import spacy\n",
    "from sklearn.svm import SVC\n",
    "from textblob import TextBlob\n",
    "from textblob import Word\n",
    "from sklearn.metrics import classification_report,confusion_matrix,accuracy_score\n",
    "from sklearn.linear_model import LogisticRegression,SGDClassifier\n",
    "from sklearn.naive_bayes import MultinomialNB\n",
    "import os\n",
    "import warnings\n",
    "import re, string, unicodedata\n",
    " \n",
    "warnings.filterwarnings(action = 'ignore')"
   ]
  },
  {
   "cell_type": "markdown",
   "id": "ff1feb68",
   "metadata": {},
   "source": [
    "## Load the data and view"
   ]
  },
  {
   "cell_type": "code",
   "execution_count": 203,
   "id": "51ce54c6",
   "metadata": {},
   "outputs": [
    {
     "data": {
      "text/html": [
       "<div>\n",
       "<style scoped>\n",
       "    .dataframe tbody tr th:only-of-type {\n",
       "        vertical-align: middle;\n",
       "    }\n",
       "\n",
       "    .dataframe tbody tr th {\n",
       "        vertical-align: top;\n",
       "    }\n",
       "\n",
       "    .dataframe thead th {\n",
       "        text-align: right;\n",
       "    }\n",
       "</style>\n",
       "<table border=\"1\" class=\"dataframe\">\n",
       "  <thead>\n",
       "    <tr style=\"text-align: right;\">\n",
       "      <th></th>\n",
       "      <th>reviews</th>\n",
       "      <th>sentiment</th>\n",
       "    </tr>\n",
       "  </thead>\n",
       "  <tbody>\n",
       "    <tr>\n",
       "      <th>0</th>\n",
       "      <td>claire danes and omar epps deliver their lines...</td>\n",
       "      <td>negative</td>\n",
       "    </tr>\n",
       "    <tr>\n",
       "      <th>1</th>\n",
       "      <td>he spins and darts across the screen like sand...</td>\n",
       "      <td>positive</td>\n",
       "    </tr>\n",
       "    <tr>\n",
       "      <th>2</th>\n",
       "      <td>i rate ghosts of mars a 4 on the 0 to 10 scale...</td>\n",
       "      <td>negative</td>\n",
       "    </tr>\n",
       "    <tr>\n",
       "      <th>3</th>\n",
       "      <td>the island is shaken up by several vicious gre...</td>\n",
       "      <td>positive</td>\n",
       "    </tr>\n",
       "    <tr>\n",
       "      <th>4</th>\n",
       "      <td>however , most outstanding is the gnarled perf...</td>\n",
       "      <td>positive</td>\n",
       "    </tr>\n",
       "  </tbody>\n",
       "</table>\n",
       "</div>"
      ],
      "text/plain": [
       "                                             reviews sentiment\n",
       "0  claire danes and omar epps deliver their lines...  negative\n",
       "1  he spins and darts across the screen like sand...  positive\n",
       "2  i rate ghosts of mars a 4 on the 0 to 10 scale...  negative\n",
       "3  the island is shaken up by several vicious gre...  positive\n",
       "4  however , most outstanding is the gnarled perf...  positive"
      ]
     },
     "execution_count": 203,
     "metadata": {},
     "output_type": "execute_result"
    }
   ],
   "source": [
    "my_df = pd.read_csv('C:/Users/ThinkPad/Documents/Assessments/NLP/txt_sentoken\\/my_movie_review.csv')\n",
    "my_df.head()"
   ]
  },
  {
   "cell_type": "markdown",
   "id": "13d658a7",
   "metadata": {},
   "source": [
    "## Descriptive statistics of the data"
   ]
  },
  {
   "cell_type": "code",
   "execution_count": 204,
   "id": "5ade912c",
   "metadata": {},
   "outputs": [
    {
     "data": {
      "text/html": [
       "<div>\n",
       "<style scoped>\n",
       "    .dataframe tbody tr th:only-of-type {\n",
       "        vertical-align: middle;\n",
       "    }\n",
       "\n",
       "    .dataframe tbody tr th {\n",
       "        vertical-align: top;\n",
       "    }\n",
       "\n",
       "    .dataframe thead th {\n",
       "        text-align: right;\n",
       "    }\n",
       "</style>\n",
       "<table border=\"1\" class=\"dataframe\">\n",
       "  <thead>\n",
       "    <tr style=\"text-align: right;\">\n",
       "      <th></th>\n",
       "      <th>reviews</th>\n",
       "      <th>sentiment</th>\n",
       "    </tr>\n",
       "  </thead>\n",
       "  <tbody>\n",
       "    <tr>\n",
       "      <th>count</th>\n",
       "      <td>300</td>\n",
       "      <td>300</td>\n",
       "    </tr>\n",
       "    <tr>\n",
       "      <th>unique</th>\n",
       "      <td>300</td>\n",
       "      <td>2</td>\n",
       "    </tr>\n",
       "    <tr>\n",
       "      <th>top</th>\n",
       "      <td>claire danes and omar epps deliver their lines...</td>\n",
       "      <td>negative</td>\n",
       "    </tr>\n",
       "    <tr>\n",
       "      <th>freq</th>\n",
       "      <td>1</td>\n",
       "      <td>150</td>\n",
       "    </tr>\n",
       "  </tbody>\n",
       "</table>\n",
       "</div>"
      ],
      "text/plain": [
       "                                                  reviews sentiment\n",
       "count                                                 300       300\n",
       "unique                                                300         2\n",
       "top     claire danes and omar epps deliver their lines...  negative\n",
       "freq                                                    1       150"
      ]
     },
     "execution_count": 204,
     "metadata": {},
     "output_type": "execute_result"
    }
   ],
   "source": [
    "my_df.describe()"
   ]
  },
  {
   "cell_type": "code",
   "execution_count": 205,
   "id": "13d58473",
   "metadata": {},
   "outputs": [
    {
     "data": {
      "text/plain": [
       "array(['negative', 'positive'], dtype=object)"
      ]
     },
     "execution_count": 205,
     "metadata": {},
     "output_type": "execute_result"
    }
   ],
   "source": [
    "# Unique values of the sentiment\n",
    "\n",
    "my_df['sentiment'].unique()"
   ]
  },
  {
   "cell_type": "code",
   "execution_count": 206,
   "id": "c4f8fe42",
   "metadata": {},
   "outputs": [
    {
     "data": {
      "text/html": [
       "<div>\n",
       "<style scoped>\n",
       "    .dataframe tbody tr th:only-of-type {\n",
       "        vertical-align: middle;\n",
       "    }\n",
       "\n",
       "    .dataframe tbody tr th {\n",
       "        vertical-align: top;\n",
       "    }\n",
       "\n",
       "    .dataframe thead th {\n",
       "        text-align: right;\n",
       "    }\n",
       "</style>\n",
       "<table border=\"1\" class=\"dataframe\">\n",
       "  <thead>\n",
       "    <tr style=\"text-align: right;\">\n",
       "      <th></th>\n",
       "      <th>sentiment</th>\n",
       "      <th>count</th>\n",
       "    </tr>\n",
       "  </thead>\n",
       "  <tbody>\n",
       "    <tr>\n",
       "      <th>0</th>\n",
       "      <td>negative</td>\n",
       "      <td>150</td>\n",
       "    </tr>\n",
       "    <tr>\n",
       "      <th>1</th>\n",
       "      <td>positive</td>\n",
       "      <td>150</td>\n",
       "    </tr>\n",
       "  </tbody>\n",
       "</table>\n",
       "</div>"
      ],
      "text/plain": [
       "  sentiment  count\n",
       "0  negative    150\n",
       "1  positive    150"
      ]
     },
     "execution_count": 206,
     "metadata": {},
     "output_type": "execute_result"
    }
   ],
   "source": [
    "# reset index and plot the unique values to see their proportion in data used\n",
    "\n",
    "index_count = my_df['sentiment'].value_counts()\n",
    "index = index_count.reset_index()\n",
    "index.columns = ['sentiment','count']\n",
    "index"
   ]
  },
  {
   "cell_type": "markdown",
   "id": "8df2fc34",
   "metadata": {},
   "source": [
    "## visusalization showing proportion of unique values of sentiment"
   ]
  },
  {
   "cell_type": "code",
   "execution_count": 207,
   "id": "7b9921ae",
   "metadata": {},
   "outputs": [
    {
     "data": {
      "image/png": "[encoded data removed]",
      "text/plain": [
       "<Figure size 640x480 with 1 Axes>"
      ]
     },
     "metadata": {},
     "output_type": "display_data"
    }
   ],
   "source": [
    "plt.title(\"pieplot of sentiment values\", loc = \"center\")\n",
    "plt.pie(index[\"count\"],labels= index[\"sentiment\"],autopct=\"%1.1f%%\")\n",
    "plt.show()"
   ]
  },
  {
   "cell_type": "markdown",
   "id": "b96ce95e",
   "metadata": {},
   "source": [
    "# pie chart shows equal sentiments review\n",
    "# initially, i used unequal sentiments\n",
    "* positive sentiment has 57% \n",
    "* negative sentiments has 42.6% "
   ]
  },
  {
   "cell_type": "markdown",
   "id": "3411749f",
   "metadata": {},
   "source": [
    "## check most frequent words before cleaning"
   ]
  },
  {
   "cell_type": "code",
   "execution_count": 208,
   "id": "c67eb504",
   "metadata": {},
   "outputs": [
    {
     "name": "stdout",
     "output_type": "stream",
     "text": [
      " there are: 300 sentences\n",
      "[('...', 11), ('the', 10), (',', 5), ('of', 3), ('a', 3), ('is', 3), (':', 3), ('0', 2), ('and', 2), ('like', 2)]\n"
     ]
    },
    {
     "data": {
      "image/png": "[encoded data removed]",
      "text/plain": [
       "<Figure size 640x480 with 1 Axes>"
      ]
     },
     "metadata": {},
     "output_type": "display_data"
    },
    {
     "data": {
      "text/plain": [
       "<AxesSubplot:xlabel='Samples', ylabel='Counts'>"
      ]
     },
     "execution_count": 208,
     "metadata": {},
     "output_type": "execute_result"
    }
   ],
   "source": [
    "tokenizer=ToktokTokenizer()\n",
    "toks =tokenizer.tokenize(my_df['reviews'])\n",
    "from nltk.probability import FreqDist\n",
    "freq_dist= FreqDist(toks)\n",
    "print(f' there are:', len(my_df['reviews']), 'sentences')\n",
    "print(freq_dist.most_common(10))\n",
    "freq_dist.plot(10)"
   ]
  },
  {
   "cell_type": "markdown",
   "id": "22db8a98",
   "metadata": {},
   "source": [
    "* mostly punctuations and articles"
   ]
  },
  {
   "cell_type": "code",
   "execution_count": 209,
   "id": "77efae33",
   "metadata": {},
   "outputs": [],
   "source": [
    "#my_df['reviews'].unique()"
   ]
  },
  {
   "cell_type": "markdown",
   "id": "cb3c83fb",
   "metadata": {},
   "source": [
    "## pre-processing and normalization"
   ]
  },
  {
   "cell_type": "code",
   "execution_count": 210,
   "id": "9a369927",
   "metadata": {},
   "outputs": [],
   "source": [
    "#Removing the html strips\n",
    "def strip_html(text):\n",
    "    soup = BeautifulSoup(text, \"html.parser\")\n",
    "    return soup.get_text()\n",
    "\n",
    "#Removing the square brackets\n",
    "def remove_between_square_brackets(text):\n",
    "    return re.sub('\\[[^]]*\\]', '', text)\n",
    "\n",
    "#Removing the noisy text\n",
    "def denoise_text(text):\n",
    "    text = strip_html(text)\n",
    "    text = remove_between_square_brackets(text)\n",
    "    return text\n",
    "#Apply function on review column\n",
    "my_df['reviews']=my_df['reviews'].apply(denoise_text)"
   ]
  },
  {
   "cell_type": "code",
   "execution_count": 211,
   "id": "6c31deef",
   "metadata": {},
   "outputs": [],
   "source": [
    "#Define function for removing special characters\n",
    "def remove_special_characters(text, remove_digits=True):\n",
    "    pattern=r'[^a-zA-z0-9\\s]'\n",
    "    text=re.sub(pattern,'',text)\n",
    "    return text\n",
    "\n",
    "my_df['reviews'] = my_df['reviews'].apply(remove_special_characters)"
   ]
  },
  {
   "cell_type": "markdown",
   "id": "74601158",
   "metadata": {},
   "source": [
    "## stemming"
   ]
  },
  {
   "cell_type": "code",
   "execution_count": 212,
   "id": "e8325e02",
   "metadata": {},
   "outputs": [],
   "source": [
    "#Stemming the text, reducing the wrods to their root meaning\n",
    "\n",
    "def simple_stemmer(text):\n",
    "    ps=nltk.porter.PorterStemmer()\n",
    "    text= ' '.join([ps.stem(word) for word in text.split()])\n",
    "    return text\n",
    "\n",
    "#Apply function on review column\n",
    "\n",
    "my_df['reviews']= my_df['reviews'].apply(simple_stemmer)"
   ]
  },
  {
   "cell_type": "code",
   "execution_count": 214,
   "id": "966f091e",
   "metadata": {},
   "outputs": [],
   "source": [
    "#Tokenization of text\n",
    "\n",
    "tokenizer=ToktokTokenizer()\n",
    "\n",
    "#Setting English stopwords\n",
    "stopword_list=nltk.corpus.stopwords.words('english')\n",
    "#print(stopword_list)"
   ]
  },
  {
   "cell_type": "code",
   "execution_count": 215,
   "id": "7ec21b4c",
   "metadata": {},
   "outputs": [
    {
     "name": "stdout",
     "output_type": "stream",
     "text": [
      "['0', 'clair', 'dane', 'and', 'omar', 'epp', 'deliv', 'their', 'line', 'as', 'if', '...', '1', 'he', 'spin', 'and', 'dart', 'across', 'the', 'screen', 'like', 'sander', '...', '2', 'i', 'rate', 'ghost', 'of', 'mar', 'a', '4', 'on', 'the', '0', 'to', '10', 'scale', 'a', '...', '3', 'the', 'island', 'is', 'shaken', 'up', 'by', 'sever', 'viciou', 'great', '...', '4', 'howev', 'most', 'outstand', 'is', 'the', 'gnarl', 'perform', 'by', 'ro', '...', '...', '295', 'it', 'is', 'like', 'ten', 'movi', 'all', 'roll', 'into', 'one', 'and', 'it', 'n', '...', '296', 'even', 'so', 'the', 'strength', 'of', '_election_', 'reli', 'upon', 'i', '...', '297', 'the', 'rest', 'of', 'the', 'stori', 'isnt', 'import', 'becaus', 'all', 'i', '...', '298', 'doe', 'she', 'just', 'leav', 'the', 'toolbox', 'at', 'the', 'door', 'when', '...', '299', 'jump', 'back', 'a', 'few', 'year', 'to', 'a', 'meet', 'among', 'the', 'black', '...', 'Name', ':', 'reviews', ',', 'Length', ':', '300', ',', 'dtype', ':', 'object']\n"
     ]
    }
   ],
   "source": [
    "print(tokenizer.tokenize(my_df['reviews']))"
   ]
  },
  {
   "cell_type": "markdown",
   "id": "4976c000",
   "metadata": {},
   "source": [
    "## English stopwords"
   ]
  },
  {
   "cell_type": "code",
   "execution_count": 216,
   "id": "247a9926",
   "metadata": {},
   "outputs": [
    {
     "name": "stdout",
     "output_type": "stream",
     "text": [
      "{'through', 'how', 'all', 'only', 'no', \"aren't\", 'is', 'ain', \"didn't\", 'her', 'themselves', 't', \"mightn't\", 'hasn', 'he', \"doesn't\", 'herself', 'can', 'against', \"she's\", 'why', 'aren', 'other', 'so', 'mightn', 'do', 'then', 'be', \"won't\", 'are', 'own', 'who', 'wouldn', 'has', 'hadn', 'their', 'our', 'any', 'yourself', 'out', 'yourselves', 'not', 'the', 'were', \"you'd\", 'after', 'in', 'such', 'will', 'mustn', \"shan't\", 'as', 'his', 'if', 'by', 'which', 'most', 'each', 'shan', 'we', 'because', 'both', 'hers', 'down', 'now', 'nor', 'up', 'again', 'didn', 'during', 'theirs', 'once', 'to', 'had', 'doing', \"you'll\", 'isn', \"wouldn't\", 'between', \"mustn't\", 're', \"haven't\", 'did', 'was', 'but', 'o', \"it's\", \"hadn't\", 'more', 'same', 'and', 'shouldn', 'there', 'couldn', 've', 'been', \"should've\", 'wasn', 'an', 'don', 'yours', 's', 'have', 'your', 'under', 'its', 'ourselves', 'am', \"isn't\", 'ma', 'or', 'below', \"don't\", 'm', 'won', 'about', \"you've\", 'few', 'this', \"wasn't\", 'here', 'very', \"couldn't\", 'himself', 'them', 'itself', 'until', 'whom', \"shouldn't\", 'needn', 'him', 'y', 'those', 'at', 'doesn', 'you', 'these', 'a', 'weren', 'should', 'having', 'over', 'what', \"weren't\", 'i', 'while', 'off', 'some', 'than', 'they', 'before', 'd', 'where', 'haven', 'on', 'll', 'being', 'me', \"that'll\", 'she', 'from', 'myself', 'does', 'for', 'above', 'further', 'my', \"you're\", 'that', \"hasn't\", \"needn't\", 'it', 'just', 'too', 'into', 'of', 'when', 'with', 'ours'}\n"
     ]
    }
   ],
   "source": [
    "stop=set(stopwords.words('english'))\n",
    "print(stop)\n",
    "\n",
    "#removing the stopwords\n",
    "def remove_stopwords(text, is_lower_case=False):\n",
    "    tokens = tokenizer.tokenize(text)\n",
    "    tokens = [token.strip() for token in tokens]\n",
    "    if is_lower_case:\n",
    "        filtered_tokens = [token for token in tokens if token not in stopword_list]\n",
    "    else:\n",
    "        filtered_tokens = [token for token in tokens if token.lower() not in stopword_list]\n",
    "    filtered_text = ' '.join(filtered_tokens)    \n",
    "    return filtered_text\n",
    "#Apply function on review column\n",
    "my_df['reviews']=my_df['reviews'].apply(remove_stopwords)"
   ]
  },
  {
   "cell_type": "markdown",
   "id": "5bf032b3",
   "metadata": {},
   "source": [
    "## visualize most common words after cleaning "
   ]
  },
  {
   "cell_type": "code",
   "execution_count": 217,
   "id": "28c34f0c",
   "metadata": {},
   "outputs": [],
   "source": [
    "#tokenize the sentences of the sentiments\n",
    "\n",
    "token =tokenizer.tokenize(my_df['reviews'])\n",
    "#token"
   ]
  },
  {
   "cell_type": "markdown",
   "id": "e1199917",
   "metadata": {},
   "source": [
    "## plot the most frequent words"
   ]
  },
  {
   "cell_type": "code",
   "execution_count": 218,
   "id": "81540665",
   "metadata": {},
   "outputs": [
    {
     "name": "stdout",
     "output_type": "stream",
     "text": [
      " there are: 300 sentences\n",
      "[('0', 3), (':', 3), ('like', 2), ('back', 2), ('scale', 2), ('movi', 2), ('one', 2), ('doe', 2)]\n"
     ]
    },
    {
     "data": {
      "image/png": "[encoded data removed]",
      "text/plain": [
       "<Figure size 640x480 with 1 Axes>"
      ]
     },
     "metadata": {},
     "output_type": "display_data"
    },
    {
     "data": {
      "text/plain": [
       "<AxesSubplot:xlabel='Samples', ylabel='Counts'>"
      ]
     },
     "execution_count": 218,
     "metadata": {},
     "output_type": "execute_result"
    }
   ],
   "source": [
    "from nltk.probability import FreqDist\n",
    "freq_dist= FreqDist(token)\n",
    "print(f' there are:', len(my_df['reviews']), 'sentences')\n",
    "print(freq_dist.most_common(10)[2:10])\n",
    "freq_dist.plot(10)"
   ]
  },
  {
   "cell_type": "markdown",
   "id": "f1087a34",
   "metadata": {},
   "source": [
    "* no more punctuations and articles.\n",
    "* '...' and '46' also showed because of the format of data\n",
    "* it doesnt mean there are numbers in the data."
   ]
  },
  {
   "cell_type": "code",
   "execution_count": 220,
   "id": "131ef636",
   "metadata": {},
   "outputs": [],
   "source": [
    "# sample the words to reshuffle \n",
    "#my_df = my_df.sample(frac = 1)"
   ]
  },
  {
   "cell_type": "code",
   "execution_count": 356,
   "id": "4fff2fb7",
   "metadata": {},
   "outputs": [],
   "source": [
    "#my_df.head(10)"
   ]
  },
  {
   "cell_type": "markdown",
   "id": "cb8ae57f",
   "metadata": {},
   "source": [
    "## splitting the dataset"
   ]
  },
  {
   "cell_type": "markdown",
   "id": "f0c65d76",
   "metadata": {},
   "source": [
    "## training data takes 80%\n",
    "## testing data takes 20%"
   ]
  },
  {
   "cell_type": "code",
   "execution_count": 255,
   "id": "21361aba",
   "metadata": {},
   "outputs": [
    {
     "name": "stdout",
     "output_type": "stream",
     "text": [
      "(240,) (240,)\n",
      "(60,) (60,)\n"
     ]
    }
   ],
   "source": [
    "#train dataset\n",
    "train_reviews=my_df.reviews[:240]\n",
    "train_sentiments=my_df.sentiment[:240]\n",
    "\n",
    "\n",
    "#test dataset\n",
    "test_reviews=my_df.reviews[240:]\n",
    "test_sentiments=my_df.sentiment[240:]\n",
    "\n",
    "\n",
    "print(train_reviews.shape,train_sentiments.shape)\n",
    "print(test_reviews.shape,test_sentiments.shape)"
   ]
  },
  {
   "cell_type": "markdown",
   "id": "4c80ead4",
   "metadata": {},
   "source": [
    "## NORMALIZING TRAIN DATA"
   ]
  },
  {
   "cell_type": "code",
   "execution_count": 256,
   "id": "8bca9ca4",
   "metadata": {},
   "outputs": [
    {
     "name": "stdout",
     "output_type": "stream",
     "text": [
      "['0', 'clair', 'dane', 'omar', 'epp', 'deliv', 'line', 'bore', 'realli', 'tra', '1', 'spin', 'dart', 'across', 'screen', 'like', 'sander', 'cut', 'back', 'd', '2', 'rate', 'ghost', 'mar', '4', '0', '10', 'scale', '0', '4', '4', 'scale', '3', 'island', 'shaken', 'sever', 'viciou', 'great', 'white', 'shark', 'a', '4', 'howev', 'outstand', 'gnarl', 'perform', 'robert', 'shaw', 'movi', '5', 'hi', 'tale', 'float', 'water', 'week', '1', '000', 'men', 'swarm', 'shark', '6', 'whatev', 'skip', '7', 'nfl', 'thi', 'lead', 'team', 'like', 'detroit', 'lion', 'boast', 'supe', '8', 'interspers', 'throughout', 'open', 'credit', 'instanc', 'seri', '9', 'john', 'carpent', 'repris', 'mani', 'idea', 'hi', 'previou', 'film', '10', 'mod', 'squad', 'certainli', 'slick', 'look', 'product', 'complet', '11', 'dreyfuss', 'previous', 'seen', 'american', 'graffiti', '1973', '12', 'anybodi', 'know', 'thi', 'film', 'exist', 'week', 'befor', 'open', '13', 'biggest', 'kudo', 'go', 'sagemil', 'hold', 'throughout', 'entir', '14', 'john', 'carpent', 'appar', 'believ', 'action', 'scene', 'peopl', 'f', '15', 'hi', 'idea', 'build', 'suspens', 'bunch', 'sudden', 'jump', 'scene', '16', 'hey', 'let', 'chase', 'peopl', 'around', 'robot', '17', 'problem', 'movi', '18', 'realli', 'need', 'see', '19', 'guess', 'bottom', 'line', 'movi', 'like', 'thi', 'alway', 'make', 'sur', '20', 'go', 'see', 'movi', '21', 'go', 'gore', 'bring', 'action', 'sequenc', 'viru', 'still', 'feel', 'v', '22', 'howev', 'one', 'scene', 'late', 'film', 'brodi', 'hooper', 'deck', 'or', '23', 'one', 'thing', 'bother', 'sinc', 'ive', 'seen', '24', 'despit', 'american', 'r', 'rate', 'content', 'doe', 'justifi', 'fil', '25', 'everi', 'dollar', 'spent', 'freeagent', 'defens', 'tackl', 'one', '26', 'brodi', 'join', 'matt', 'hooper', 'richard', 'dreyfuss', 'young', '27', 'youv', 'got', 'mail', 'work', 'alot', 'better', 'deserv', '28', 'overal', 'film', 'doesnt', 'stick', 'becaus', 'doesnt', 'enterta', '29', 'get', 'past', 'whole', 'comic', 'book', 'thing', 'might', 'find', 'ano', '30', 'base', 'show', '1960', 'televis', 'show', 'nobodi', 'rememb', 'ques', '31', 'perhap', 'outstand', 'jaw', 'spielberg', 'build', 'movi', '32', 'signific', 'tension', 'election', 'potenti', 'relationsh', '33', 'third', 'class', 'postal', 'worker', 'lumumba', 'speak', 'hi', 'min', '34', 'event', 'like', 'lead', 'inevit', 'showdown', 'stalker', 'stalk', '35', 'one', 'guy', 'die', 'hi', 'girlfriend', 'continu', 'see', 'life', 'ha', '36', 'even', 'charact', 'stink', 'none', 'remot', 'interest', 'much', 'fi', '37', 'first', 'act', 'open', 'polic', 'chief', 'martin', 'brodi', 'roy', 'sc', '38', 'even', 'magic', 'kingdom', 'mediocr', 'thatd', 'pocahonta', 'kee', '39', 'maryam', 'dabo', 'onli', 'actor', 'close', 'star', 'play', 'bond', 'ch', '40', 'mission', 'mar', 'wa', 'pan', 'mani', 'review', 'look', 'better', 'bet', '41', 'sadli', 'follow', 'realli', 'buildup', '42', 'doesnt', 'let', 'us', 'get', 'bore', 'imageri', '43', 'join', 'three', 'women', 'littl', 'except', 'scream', 'jacki', 'sav', '44', 'overdo', 'word', 'still', 'manag', 'creepi', 'enough', 'pass', 'typ', '45', 'sure', 'mildli', 'interest', 'subplot', 'fail', 'comparison', 'u', '46', 'scene', 'nice', 'realiz', 'though', 'im', 'loss', 'recal', 'enough', '47', 'shark', 'jaw', 'wa', 'actual', 'combin', 'actual', 'footag', 'five', '48', 'mere', 'suggest', 'presenc', 'creepi', 'subject', 'underwat', 's', '49', 'well', 'main', 'problem', 'simpli', 'jumbl', '50', 'ghost', 'mar', 'call', 'horror', 'movi', 'drawn', 'fight', 'human', 's', '51', 'build', 'tension', 'bit', 'bit', 'come', 'time', 'climax', 'shark', 'a', '52', 'film', 'howev', 'good', '53', 'ghost', 'mar', 'take', 'place', 'year', '2176', '54', 'traci', 'flick', 'rees', 'witherspoon', 'overachiev', 'hand', 'r', '55', 'chan', 'first', 'releas', 'thi', 'countri', 'rumbl', 'bronx', 'wa', 's', '56', 'watch', 'two', 'white', 'men', 'perform', 'gruesom', 'task', 'disme', '57', 'starter', 'wa', 'creat', 'alan', 'moor', 'eddi', 'campbel', 'brough', '58', 'ian', 'holm', 'joe', 'gould', 'secret', 'richardson', '102', 'dalma', '59', 'thi', 'littleknown', 'stori', 'thi', 'meteor', 'rise', 'fall', 'tol', '60', 'quint', 'drawn', 'tell', 'stori', 'hi', 'experi', 'aboard', 'u', '61', 'credit', 'snapshot', 'actor', 'jay', 'underwood', 'appear', '62', 'reason', 'thi', 'genr', 'film', 'requir', 'dead', 'pet', 'found', 'vic', '63', 'first', 'stiff', 'turn', 'copper', 'peter', 'godley', 'robbi', 'col', '64', 'howev', 'youv', 'got', 'go', 'youv', 'got', 'youv', 'got', 'jacki', 'chan', '65', 'end', 'tie', 'win', '66', 'male', 'bumbl', 'adult', 'election', 'matthew', 'broderick', '67', 'sad', 'part', 'arrow', 'dig', 'flick', 'like', 'thi', 'actual', 'figur', '68', 'robot', 'bodi', 'part', 'realli', 'turn', 'movi', '69', 'entir', 'second', 'act', 'take', 'place', 'orca', 'three', 'men', 'hun', '70', 'okay', 'know', 'stalker', 'even', 'befor', 'movi', 'start', 'guessw', '71', 'terror', 'creat', 'look', 'littl', 'much', 'like', 'fugit', 'wannab', '72', '2', '00', 'r', 'strong', 'violencegor', 'sexual', 'languag', 'drug', '73', 'movi', 'open', 'black', 'onli', 'distant', 'alienlik', 'underwat', '74', 'comic', 'dont', 'bother', 'cloak', 'ident', 'ripper', 'screenwri', '75', 'onc', 'campbel', 'charact', 'get', 'go', 'like', 'fantast', 'speech', '76', 'clear', 'film', 'noth', 'attempt', 'cash', 'teenag', 'spend', 'doll', '77', 'real', 'act', 'wa', 'involv', 'origin', 'invent', 'bone', 'bodi', 'bas', '78', 'critiqu', 'mindfuck', 'movi', 'teen', 'gener', 'touch', 'veri', 'co', '79', 'stori', 'told', 'flashback', 'flashback', 'within', 'flashbac', '80', 'onli', 'recent', 'challeng', 'throne', 'wa', 'last', 'fall', 'promi', '81', 'asid', 'fact', 'children', 'probabl', 'bore', 'watch', 'thi', 'adul', '82', 'peck', 'cowrit', 'pascal', 'bonitz', 'begin', 'end', 'stori', 'youn', '83', 'mani', 'forgotten', 'jaw', 'wa', 'sort', 'precursor', 'waterworl', '84', 'basic', 'plot', 'ghost', 'mar', 'ha', 'much', 'common', 'assault', 'pr', '85', 'within', 'short', 'stretch', 'time', 'seen', 'releas', 'mission', '86', 'mightv', 'pretti', 'decent', 'teen', 'mindfuck', 'movi', 'somewh', '87', 'abberlin', 'widow', 'ha', 'prophet', 'dream', 'unsuccess', 'tri', '88', 'deal', '89', 'jaw', 'rare', 'film', 'grab', 'attent', 'befor', 'show', 'singl', 'ima', '90', 'mar', 'ha', 'mostli', 'terraform', 'human', 'walk', 'surfac', 'with', '91', 'havent', 'quit', 'yet', 'figur', 'like', 'much', 'youv', 'got', 'mail', '92', 'broderick', 'play', 'mr', 'rooney', 'role', 'ferri', 'bueller', '93', 'jacki', 'chan', 'barri', 'sander', 'moviemak', '94', 'start', 'normal', 'downshift', 'thi', 'fantasi', 'world', 'audie', '95', 'one', 'must', 'strain', 'much', 'thi', 'mess', 'find', 'good', '96', 'couldnt', 'direct', 'becaus', 'film', 'helm', 'woman', '97', 'even', 'get', 'bee', 'sting', '98', 'georg', 'washington', 'carver', 'high', 'school', 'student', 'elect', '99', 'say', 'moor', 'campbel', 'thoroughli', 'research', 'subject', 'j', '100', 'film', 'best', 'describ', 'cross', 'hourlong', 'cop', 'show', 'musi', '101', 'shark', 'perfect', 'nemesi', 'real', 'surviv', 'sinch', 'dinosau', '102', 'cring', 'first', 'time', 'open', 'mouth', 'imagin', 'attempt', 'iri', '103', 'similar', 'stagger', '104', 'come', 'everi', 'singl', 'clich', '105', 'dont', 'know', 'whi', 'crew', 'wa', 'realli', 'middl', 'nowher', 'dont', '106', 'follow', 'movi', 'show', 'wife', 'like', 'ghost', 'mar', 'moder', 'car', '107', 'come', 'first', 'omin', 'bar', 'compos', 'john', 'william', 'infam', '108', 'ghetto', 'question', 'cours', 'whitechapel', '1888', 'london', '109', 'dragon', 'comedi', 'shtick', 'aw', 'cloy', 'least', 'show', 'sign', 'puls', '110', 'hooper', 'fascin', 'shark', 'determin', 'help', 'brodi', 'stop', 'h', '111', 'daryl', 'obsess', 'brook', 'follow', 'around', 'tri', 'woo', '112', 'onli', 'one', 'escap', 'rel', 'unscath', 'giovanni', 'ribisi', 'pla', '113', 'work', 'like', 'theatric', 'product', 'first', 'act', 'second', 'act', '114', 'traci', 'flick', 'election', 'presid', 'extraordinari', 'nu', '115', 'indianapoli', 'navi', 'ship', 'world', 'war', 'ii', 'wa', 'sunk', 'jap', '116', 'ignor', 'gape', 'hole', 'plot', 'exactli', 'villain', 'leg', 'broke', '117', 'first', 'fifteen', 'minut', 'quickli', 'becom', 'appar', '118', 'thi', 'also', 'explain', 'whi', 'movi', 'wa', 'shot', 'odd', 'place', 'li', '119', 'dark', 'side', 'sleeper', 'success', 'becaus', 'expect', 'low', 'go', '120', 'littl', 'know', 'power', 'within', '121', 'realli', '122', 'thi', 'cours', 'lead', 'predict', 'climax', '123', 'dahdum', '124', 'cours', 'cant', 'leav', 'shark', 'black', 'eye', 'endless', 'row', 'te', '125', 'director', 'steven', 'spielberg', 'wast', 'time', 'take', 'us', 'wa', '126', 'oh', 'enjoy', 'manipul', '127', 'book', 'graphic', 'novel', '500', 'page', 'long', 'includ', 'nearli', '128', 'real', 'star', 'stan', 'winston', 'robot', 'design', 'schnazzi', 'c', '129', 'littl', 'know', 'alreadi', 'love', 'internet', 'onli', 'neither', '130', 'stori', 'revolv', 'around', 'adventur', 'freespirit', 'kayley', '131', 'make', 'thing', 'entertain', 'thrill', 'even', 'engag', 'meantim', '132', 'brook', 'dabo', 'need', 'ditzi', 'howev', 'plot', 'proceed', '133', 'damn', 'y2k', 'bug', '134', 'dont', 'think', 'anyon', 'need', 'brief', 'jack', 'ripper', 'wont', 'g', '135', 'traci', 'flick', 'singl', 'parent', 'home', 'ha', 'contribut', 'drive', '136', 'prolifer', 'may', 'due', 'part', 'fact', 'theyr', 'typic', 'inexpen', '137', 'addit', 'anybodi', 'john', 'carpent', 'made', 'ghost', 'mar', 'carp', '138', 'ultim', 'reject', 'hi', 'plan', 'becom', 'desper', 'elabor', '139', 'individu', 'screenplay', 'rushmore', 'novel', 'election', '140', 'june', '30', '1960', 'selftaught', 'idealist', 'yet', 'pragmat', 'y', '141', 'film', 'adapt', 'comic', 'book', 'plenti', 'success', 'whether', 't', '142', 'filthi', 'sooti', 'place', 'whore', 'call', 'unfortun', 'start', 'g', '143', 'least', 'fan', 'early90', 'tgif', 'televis', 'lineup', 'thrill', 'f', '144', 'thi', 'money', 'wa', 'spent', 'wellchoreograph', 'kungfu', 'sequ', '145', 'cant', 'help', 'go', 'baggag', 'glow', 'review', 'contrast', 'neg', 'b', '146', 'patric', 'lumumba', 'eriq', 'ebouaney', 'stori', 'ha', 'told', 'pre', '147', 'technic', 'limit', 'face', 'spielberg', '1975', 'may', 'actual', 'p', '148', 'forese', 'end', 'damn', 'cute', 'welldon', 'doubt', 'ani', 'movi', 'en', '149', 'cours', 'ad', 'make', 'seem', 'like', 'much', '150', 'capsul', '2176', 'planet', 'mar', 'polic', 'take', 'custodi', 'accu', '151', 'otherwis', 'pretti', 'much', 'sunken', 'ship', 'movi', '152', 'movi', 'wa', 'meant', 'daryl', 'call', 'stalker', 'stalk', '153', 'witherspoon', 'revel', '154', 'quest', 'camelot', 'warner', 'bro', 'first', 'featurelength', 'f', '155', 'dream', 'charact', 'come', 'back', 'dead', 'look', 'like', 'dead', 'st', '156', 'quick', 'cut', 'cool', 'music', 'clair', 'dane', 'nice', 'hair', 'cute', '157', 'get', 'accid', '158', 'sutherland', 'wast', 'baldwin', 'well', 'act', 'like', 'baldwin', '159', 'mr', 'matthew', 'broderick', 'sick', 'megalomaniac', 'student']\n"
     ]
    }
   ],
   "source": [
    "#normalized train reviews\n",
    "norm_train_reviews=my_df.reviews[:160]\n",
    "norm_train_reviews\n",
    "#convert dataframe to string\n",
    "norm_train_string=norm_train_reviews.to_string()\n",
    "#Spelling correction using Textblob\n",
    "norm_train_spelling=TextBlob(norm_train_string)\n",
    "# norm_train_spelling\n",
    "norm_train_spelling.correct()\n",
    "#Tokenization using Textblob\n",
    "norm_train_words=norm_train_spelling.words\n",
    "print(norm_train_words)"
   ]
  },
  {
   "cell_type": "code",
   "execution_count": 357,
   "id": "768741c6",
   "metadata": {},
   "outputs": [
    {
     "name": "stdout",
     "output_type": "stream",
     "text": [
      "1298\n"
     ]
    }
   ],
   "source": [
    "print(len(norm_train_words))"
   ]
  },
  {
   "cell_type": "markdown",
   "id": "a6f7fdcb",
   "metadata": {},
   "source": [
    "## NORMALIZING TEST DATA"
   ]
  },
  {
   "cell_type": "code",
   "execution_count": 260,
   "id": "89bcaa53",
   "metadata": {},
   "outputs": [
    {
     "name": "stdout",
     "output_type": "stream",
     "text": [
      "['160', 'first', 'summer', 'know', 'mayor', 'vaughn', 'warn', '161', 'stalk', 'waver', 'slightli', 'norm', 'one', 'respect', 'psycho', 'n', '162', 'elect', 'good', 'film', 'doe', 'live', 'hype', '163', 'tri', 'door', 'open', 'wander', 'around', 'hous', '164', '165', 'base', 'late', '1960', 'televis', 'show', 'name', 'mod', 'squad', 'tel', '166', 'toward', 'end', 'exampl', 'brook', 'ha', 'suspicion', 'daryl', '167', 'although', 'grand', 'new', 'technolog', 'exist', 'make', 'techni', '168', 'get', 'sever', 'bee', 'sting', '169', 'happen', '170', 'actor', 'pretti', 'good', 'part', 'although', 'bentley', 'seem', 'p', '171', 'plot', 'decept', 'simpl', '172', 'thi', 'leav', '75', 'cent', 'pay', 'thing', 'like', 'director', 'chan', '173', 'jacki', 'sent', 'un', 'retriev', 'cach', 'lost', 'nazi', 'gold', 'nort', '174', 'hell', 'end', 'whistl', 'stonecutt', 'song', 'simpson', 'day', 'hol', '175', 'like', 'get', 'kick', 'work', 'halloween', 'h20', '176', 'stalk', 'anoth', 'redund', 'entri', 'doom', 'collect', 'dust', 'vid', '177', 'mtv', 'film', 'elect', 'high', 'school', 'comedi', 'star', 'matthe', '178', 'villain', 'old', 'nazi', 'whose', 'leg', 'broken', 'secret', 'base', '179', 'like', 'lion', 'star', 'jacki', 'doesnt', 'anybodi', 'block', '180', 'mean', 'show', 'melissa', 'sagemil', 'run', 'away', 'vision', '20', 'm', '181', 'funni', 'watch', 'local', 'blindli', 'point', 'finger', 'blame', 'j', '182', 'oscar', 'winner', 'martin', 'child', 'shakespear', 'love', 'prod', '183', 'everi', 'movi', 'come', 'along', 'suspect', 'studio', 'everi', 'ind', '184', 'kayley', 'onli', 'dream', 'follow', 'father', 'footstep', 'get', 'c', '185', 'see', 'spielberg', 'overcam', 'obstacl', 'deliv', 'one', 'finest', '186', 'dont', 'worri', 'itll', 'make', 'sens', 'see', '187', 'help', 'hunki', 'blind', 'timberlanddwel', 'garrett', 'carey', '188', 'noth', 'differenti', 'quest', 'someth', 'youd', 'see', 'ani', 'give', '189', 'ensur', 'wont', 'use', 'anoth', 'excus', 'see', 'brook', 'decid', 'ret', '190', 'open', 'sequenc', 'contriv', 'quit', 'bit', 'bring', 'daryl', 'broo', '191', 'ghost', 'mar', 'take', 'place', 'entir', 'night', 'film', 'almost', 'e', '192', 'doesnt', 'realli', 'matter', 'film', 'base', 'televis', 'show', 'pl', '193', 'comment', 'wa', 'see', 'film', 'twice', '194', 'vaughn', 'final', 'relent', 'hooper', 'brodi', 'join', 'crusti', 'o', '195', 'tom', 'hank', 'play', 'joe', 'fox', 'insan', 'likeabl', 'owner', 'disc', '196', 'inform', 'charact', 'liter', 'spoonf', 'audienc', 'would', 'hard', '197', 'everi', 'one', 'spielberg', 'subject', 'underwat', 'shot', 'make', '198', 'shaw', 'deliv', 'stori', 'one', 'long', 'take', 'best', 'act', 'film', '199', 'nevertheless', 'thi', 'film', 'guarante', 'success', 'career', '200', 'en', 'rout', 'extend', 'motorcycl', 'chase', 'scene', 'hilari', 'fi', '201', 'quest', 'camelot', 'miss', 'pure', 'showmanship', 'essenti', 'el', '202', 'scheider', 'dreyfuss', 'shaw', 'known', 'actor', 'time', 'jaw', 'wa', '203', 'jay', 'underwood', 'stalker', 'turn', 'toward', 'melodrama', 'bi', '204', 'ryan', 'discov', 'true', 'ident', 'onlin', 'love', 'wa', 'fill', 'lack', '205', 'okay', 'get', '206', 'standard', 'haunt', 'hous', 'film', 'shock', 'effect', 'requir', 'g', '207', 'even', 'today', 'fascin', 'thi', 'film', 'par', 'hitchcock', 'psych', '208', 'give', 'us', 'differ', 'scene', 'offer', 'insight', 'strang', 'go', 'movi', '209', 'person', 'learn', 'thi', 'mess', 'goe', 'veri', 'long', 'way', '210', 'onto', 'hell', 'appear', 'certainli', 'dark', 'bleak', 'enough', 's', '211', 'packag', 'look', 'way', 'becaus', 'someon', 'appar', 'assum', 'genr', '212', 'joblo', 'come', '213', 'sound', 'like', 'cool', 'movi', 'doe', '214', 'narrat', 'state', 'thi', 'stori', 'daryl', 'gleason', 'tell', 'audi', '215', 'unlik', 'mani', 'modern', 'filmmak', 'ha', 'great', 'deal', 'restra', '216', 'print', 'saw', 'wasnt', 'complet', 'finish', 'color', 'music', 'fin', '217', 'imag', 'hatchet', 'saw', 'fastempti', 'whiskey', 'bottl', 'accom', '218', 'max', 'fischer', 'rushmore', 'presid', 'extraordinari', 'nu', '219', 'two', 'month', 'later', 'wa', 'oust', 'hi', 'power', 'posit', 'hunt', 'go', '220', 'upon', 'arriv', 'whitechapel', 'befriend', 'unfortun', 'name', '221', 'compar', 'kayley', 'garrett', 'runin', 'angri', 'ogr', 'herc', 'bat', '222', 'onc', 'secret', 'desert', 'base', 'long', 'chopsocki', 'sequenc', '223', 'make', 'election', 'disappoint', 'contain', 'signific', 'pl', '224', 'also', 'wrap', 'product', 'two', 'year', 'ago', 'ha', 'sit', 'shelv', 'ev', '225', 'stalk', 'except', 'cat', 'thi', 'time', 'found', 'shower', '226', 'watch', 'jacki', 'oper', 'condor', 'drive', 'hi', 'motorcycl', 'cro', '227', 'dont', 'worri', 'product', 'valu', 'exactli', 'japanes', 'girl', 'w', '228', 'stalk', 'doe', 'provid', 'much', 'suspens', 'though', 'set', '229', 'max', 'fischer', 'singl', 'parent', 'home', 'ha', 'contribut', 'hi', '230', 'essenti', 'goe', 'defi', 'concept', 'good', 'contemporari', 'fil', '231', 'person', 'dont', 'mind', 'tri', 'unravel', 'film', 'everi', 'doe', 'gi', '232', 'charact', 'act', 'noth', 'spectacular', 'sometim', 'even', 'bord', '233', 'fact', 'surpris', 'carpent', 'manag', 'fit', 'mani', 'piec', 'hi', 'pr', '234', 'howev', 'thing', 'go', 'wrong', 'evid', 'get', 'stolen', 'immedi', 'su', '235', 'heck', 'jacki', 'doesnt', 'even', 'enough', 'money', 'haircut', 'lo', '236', 'got', 'head', 'start', 'thi', 'movi', 'star', 'jami', 'lee', 'curti', 'an', '237', 'never', 'mention', 'graviti', 'mar', 'ha', 'increas', 'somehow', 'e', '238', 'paul', 'nihilist', 'sister', 'jump', 'race', 'well', 'person', 'reason', '239', 'fox', 'kelley', 'soon', 'becom', 'bitter', 'rival', 'becaus', 'new', '240', 'moviemak', 'lot', 'like', 'gener', 'manag', 'nfl', 'team', 'postsal', '241', 'nightmar', 'elm', 'street', '3', '710', 'blair', 'witch', '2', '710', 'cr', '242', 'condor', 'chan', 'play', 'charact', 'alway', 'play', 'mixtur', 'bru', '243', 'appar', 'studio', 'took', 'thi', 'film', 'away', 'director', 'chop', '244', 'earli', 'year', 'comedi', 'teenag', 'littl', 'clout', 'money', 'wit', '245', 'way', 'film', 'progress', 'like', 'wont', 'even', 'care', 'hero', 'ani', '246', 'must', 'someth', 'cast', 'manipul', 'make', 'movi', 'work', 'well', 'd', '247', 'synopsi', 'mental', 'unstabl', 'man', 'undergo', 'psychothera', '248', 'somewhat', 'newer', 'also', 'unimpress', 'cgi', 'digit', 'decapi', '249', 'carpent', 'manag', 'give', 'us', 'power', 'open', 'scene', 'show', 'mi', '250', 'plan', 'includ', 'alltim', 'psychoinlov', 'clich', 'murder', 'pet', '251', 'word', 'dont', 'dismiss', 'thi', 'film', 'becaus', 'sourc', '252', 'overli', 'sentiment', 'time', 'terribl', 'mushi', 'mention', 've', '253', 'right', 'away', 'let', 'us', 'know', 'vulner', 'float', 'ocean', 'onc', '254', 'instead', 'crimin', 'napolean', 'wilson', 'thi', 'film', 'ha', 'cri', '255', 'order', 'make', 'film', 'success', 'wa', 'cast', 'two', 'extrem', 'pop', '256', 'even', 'act', 'hell', 'solid', 'dreami', 'depp', 'turn', 'typic', 'str', '257', 'stalk', 'proce', 'begin', 'obviou', 'obviou', 'obviou', '258', 'almost', 'everi', 'cent', 'invest', 'jacki', 'chan', 'movi', 'goe', 's', '259', 'comment', 'stalk', 'yet', 'anoth', 'seemingli', 'endless', 'stri', '260', 'instead', 'face', 'hoodlum', 'automat', 'weapon', 'polic', 'face', '261', 'thi', 'film', 'chock', 'full', 'piec', 'taken', 'assault', 'precinc', '262', 'obvious', 'got', 'thi', 'big', 'secret', 'hide', 'seem', 'want', 'hide', '263', 'stalk', 'cast', 'uniformli', 'adequ', 'anyth', 'write', 'home', 'al', '264', 'young', 'cast', 'cool', 'cloth', 'nice', 'hair', 'hip', 'soundtrack', '265', 'signific', 'tension', 'rushmore', 'potenti', 'relationsh', '266', 'jaw', 'thriller', 'keen', 'sens', 'humor', 'incred', 'sens', 'pace', '267', 'unfortun', 'even', 'enough', 'save', 'thi', 'convolut', 'mess', 'ch', '268', 'unsuccess', 'attempt', 'gain', 'woman', 'favor', 'take', 'pictur', '269', 'scheider', 'hit', 'right', 'note', 'sympathet', 'husband', 'fath', '270', 'watch', 'movi', 'sorta', 'find', '271', 'number', 'time', 'check', 'watch', 'six', 'clear', 'indic', 'thi', 'fi', '272', 'plot', 'two', 'teen', 'coupl', 'go', 'church', 'parti', 'drink', 'drive', '273', 'movi', 'like', 'make', 'jade', 'movi', 'viewer', 'thank', 'invent', 't', '274', 'becaus', 'ghost', 'somewhat', 'alien', 'natur', 'behav', 'alien', '275', 'get', 'hugh', 'brother', 'direct', 'thi', 'seem', 'almost', 'ludicr', '276', 'still', 'doe', 'make', 'realli', 'good', 'scienc', 'fiction', 'experi', '277', 'cours', 'realli', 'thi', 'stori', 'restauranteur', 'brook', 'daniel', '278', 'societi', 'ha', 'chang', 'bit', 'time', 'ha', 'advanc', 'surprising', '279', 'thi', 'year', 'contest', 'quest', 'camelot', 'pretti', 'much', 'dea', '280', 'carpent', 'view', 'women', 'realli', 'made', 'mess', 'thing', '281', 'like', 'someth', 'much', 'whi', 'even', 'question', '282', 'appar', 'cultur', 'ha', 'chang', 'women', 'much', 'posit', 'control', '283', 'seem', 'taken', 'thi', 'pretti', 'neat', 'concept', 'execut', 'terribl', '284', 'border', 'parodi', 'shaw', 'play', 'quint', 'grizzl', 'old', 'loner', '285', 'make', 'thi', 'review', 'even', 'harder', 'one', 'write', 'sinc', 'gen', '286', 'lot', 'fight', 'whole', 'lot', 'stori', 'otherwis', '287', 'male', 'bumbl', 'adult', 'rushmore', 'bill', 'murray', 'pursu', '288', 'writer', 'director', 'horror', 'film', 'supposedli', 'expert', '289', 'oh', 'way', 'thi', 'horror', 'teen', 'slasher', 'flick', '290', 'oper', 'condor', 'ha', 'pretent', 'raider', 'lost', 'ark', 'knockof', '291', 'societi', 'ha', 'stagnat', 'femal', 'control', 'beyond', 'minor', '292', 'act', 'averag', 'even', 'like', 'curti', '293', 'avoid', 'thi', 'film', 'cost', '294', 'movi', 'end', 'film', 'like', 'spawn', 'huge', 'specialeffect', 'bu', '295', 'like', 'ten', 'movi', 'roll', 'one', 'wonder', 'took', 'america', 'sto', '296', 'even', 'strength', 'election', 'reli', 'upon', 'fantast', 'per', '297', 'rest', 'stori', 'isnt', 'import', 'becaus', 'doe', 'serv', 'mere', 'ba', '298', 'doe', 'leav', 'toolbox', 'door', 'one', 'answer', '299', 'jump', 'back', 'year', 'meet', 'among', 'black', 'leader', 'belgian']\n"
     ]
    }
   ],
   "source": [
    "#Normalized test reviews\n",
    "norm_test_reviews=my_df.reviews[160:]\n",
    "norm_test_reviews\n",
    "##convert dataframe to string\n",
    "norm_test_string=norm_test_reviews.to_string()\n",
    "# spelling correction using Textblob\n",
    "norm_test_spelling=TextBlob(norm_test_string)\n",
    "norm_test_spelling.correct()\n",
    "#Tokenization using Textblob\n",
    "norm_test_words=norm_test_spelling.words\n",
    "print(norm_test_words)\n",
    "#len(norm_test_words)\n"
   ]
  },
  {
   "cell_type": "code",
   "execution_count": 261,
   "id": "f1ba2f83",
   "metadata": {},
   "outputs": [
    {
     "data": {
      "text/plain": [
       "1177"
      ]
     },
     "execution_count": 261,
     "metadata": {},
     "output_type": "execute_result"
    }
   ],
   "source": [
    "len(norm_test_words)"
   ]
  },
  {
   "cell_type": "markdown",
   "id": "0e30ce4e",
   "metadata": {},
   "source": [
    "## remove the numbers from the tokenized sentences"
   ]
  },
  {
   "cell_type": "code",
   "execution_count": null,
   "id": "284ff48b",
   "metadata": {},
   "outputs": [],
   "source": [
    "# df_train_reviews = [word for word in norm_train_words if word.isalpha()]\n",
    "# print(df_train_reviews)\n",
    "# print(len(df_train_reviews))"
   ]
  },
  {
   "cell_type": "code",
   "execution_count": 229,
   "id": "6a2f3ddf",
   "metadata": {},
   "outputs": [],
   "source": [
    "# df_test_reviews = [word for word in norm_test_words if word.isalpha()]\n",
    "# print(df_test_reviews)\n",
    "# print(len(df_test_reviews))"
   ]
  },
  {
   "cell_type": "markdown",
   "id": "92f1ab7a",
   "metadata": {},
   "source": [
    "## Bags of words(bow)  \n",
    "* to vectorize the data"
   ]
  },
  {
   "cell_type": "code",
   "execution_count": 262,
   "id": "1bdebaad",
   "metadata": {},
   "outputs": [
    {
     "name": "stdout",
     "output_type": "stream",
     "text": [
      "BOW_cv_train: (160, 4260)\n",
      "BOW_cv_test: (140, 4260)\n"
     ]
    }
   ],
   "source": [
    "#Count vectorizer for bag of words\n",
    "cv=CountVectorizer(min_df=0,max_df=1,binary=False,ngram_range=(1,3))\n",
    "#transformed train reviews\n",
    "cv_train_reviews=cv.fit_transform(norm_train_reviews)\n",
    "#transformed test reviews\n",
    "cv_test_reviews=cv.transform(norm_test_reviews)\n",
    "\n",
    "print('BOW_cv_train:',cv_train_reviews.shape)\n",
    "print('BOW_cv_test:',cv_test_reviews.shape)\n",
    "vocab=cv.get_feature_names()\n",
    "#print(vocab) #-toget feature names"
   ]
  },
  {
   "cell_type": "markdown",
   "id": "100ff35b",
   "metadata": {},
   "source": [
    "## Term Frequency-Inverse Document Frequency model (tfidf)\n",
    "\n",
    "**It is used to convert text documents to matrix of tfidf features."
   ]
  },
  {
   "cell_type": "code",
   "execution_count": 263,
   "id": "a50dcb21",
   "metadata": {},
   "outputs": [
    {
     "name": "stdout",
     "output_type": "stream",
     "text": [
      "Tfidf_train: (160, 4260)\n",
      "Tfidf_test: (140, 4260)\n"
     ]
    }
   ],
   "source": [
    "#Tfidf vectorizer\n",
    "tv=TfidfVectorizer(min_df=0,max_df=1,use_idf=True,ngram_range=(1,3))\n",
    "#transformed train reviews\n",
    "tv_train_reviews=tv.fit_transform(norm_train_reviews)\n",
    "#transformed test reviews\n",
    "tv_test_reviews=tv.transform(norm_test_reviews)\n",
    "\n",
    "print('Tfidf_train:',tv_train_reviews.shape)\n",
    "print('Tfidf_test:',tv_test_reviews.shape)"
   ]
  },
  {
   "cell_type": "markdown",
   "id": "2a75ffb3",
   "metadata": {},
   "source": [
    "## Labeling the sentiment text\n",
    "* class sklearn.preprocessing.LabelBinarizer(neg_label=0, pos_label=1, sparse_output=False)\n",
    "* this is only for binary classification labels. multiclass labels have to use one-vs-all scheme"
   ]
  },
  {
   "cell_type": "code",
   "execution_count": 264,
   "id": "c346f686",
   "metadata": {},
   "outputs": [
    {
     "name": "stdout",
     "output_type": "stream",
     "text": [
      "(300, 1)\n"
     ]
    }
   ],
   "source": [
    "#labeling the sentiment data\n",
    "lb=LabelBinarizer()\n",
    "#transformed sentiment data\n",
    "sentiment_data=lb.fit_transform(my_df['sentiment'])\n",
    "print(sentiment_data.shape)"
   ]
  },
  {
   "cell_type": "markdown",
   "id": "11dccd7f",
   "metadata": {},
   "source": [
    "## split the sentiment data"
   ]
  },
  {
   "cell_type": "code",
   "execution_count": 266,
   "id": "07b85336",
   "metadata": {
    "scrolled": false
   },
   "outputs": [],
   "source": [
    "#Spliting the sentiment data\n",
    "train_sentiments=sentiment_data[:160]\n",
    "test_sentiments=sentiment_data[160:]\n",
    "#print('train data:', train_sentiments)\n",
    "#print('test data:', test_sentiments)"
   ]
  },
  {
   "cell_type": "markdown",
   "id": "be35b365",
   "metadata": {},
   "source": [
    "## Logistic regression modelling "
   ]
  },
  {
   "cell_type": "code",
   "execution_count": 267,
   "id": "fd809c8e",
   "metadata": {},
   "outputs": [
    {
     "name": "stdout",
     "output_type": "stream",
     "text": [
      "LogisticRegression(C=1, max_iter=200, random_state=42)\n",
      "LogisticRegression(C=1, max_iter=200, random_state=42)\n"
     ]
    }
   ],
   "source": [
    "#training the model\n",
    "lr=LogisticRegression(penalty='l2',max_iter=200,C=1,random_state=42)\n",
    "#Fitting the model for Bag of words\n",
    "lr_bow=lr.fit(cv_train_reviews,train_sentiments)\n",
    "print(lr_bow)\n",
    "#Fitting the model for tfidf features\n",
    "lr_tfidf=lr.fit(tv_train_reviews,train_sentiments)\n",
    "print(lr_tfidf)"
   ]
  },
  {
   "cell_type": "markdown",
   "id": "c5c8a0b4",
   "metadata": {},
   "source": [
    "## Predicting the model for bag of words \n",
    "* model trained with bow vector"
   ]
  },
  {
   "cell_type": "code",
   "execution_count": 268,
   "id": "f045027a",
   "metadata": {},
   "outputs": [
    {
     "name": "stdout",
     "output_type": "stream",
     "text": [
      "predicting_lr_bow: [1 0 1 1 1 0 1 1 1 1 1 1 1 1 1 1 1 1 1 1 0 1 1 1 0 1 1 0 0 1 1 0 0 1 1 1 1\n",
      " 1 1 1 1 1 1 0 1 0 1 1 1 0 0 1 1 1 1 0 0 1 1 1 1 1 1 1 1 1 1 1 1 1 1 1 1 0\n",
      " 1 1 1 1 1 1 1 1 1 1 1 1 1 0 1 0 0 1 1 1 1 0 1 1 0 1 1 1 1 1 0 1 1 1 1 1 1\n",
      " 1 1 1 1 1 1 1 1 1 1 1 1 1 1 0 0 1 1 1 1 1 1 1 1 1 1 1 1 1]\n"
     ]
    }
   ],
   "source": [
    "#Predicting the model for bag of words\n",
    "lr_bow_predict=lr.predict(cv_test_reviews)\n",
    "print('predicting_lr_bow:',lr_bow_predict)"
   ]
  },
  {
   "cell_type": "markdown",
   "id": "ee16e507",
   "metadata": {},
   "source": [
    "## ## Predicting the model for tfidf\n",
    "* using tfidf features"
   ]
  },
  {
   "cell_type": "code",
   "execution_count": 269,
   "id": "cc2921cd",
   "metadata": {},
   "outputs": [
    {
     "name": "stdout",
     "output_type": "stream",
     "text": [
      "predicting_lr_tv: [1 0 1 1 1 0 1 1 1 1 1 1 1 1 1 1 1 1 1 1 0 1 1 1 0 1 1 1 0 1 1 0 1 1 1 1 1\n",
      " 1 1 1 1 1 1 0 1 0 1 1 1 0 0 1 1 1 1 0 1 1 1 1 1 1 1 1 1 1 1 1 1 1 1 1 1 1\n",
      " 1 1 1 1 1 1 1 1 1 1 1 1 1 1 1 1 0 1 1 1 1 0 1 1 1 1 1 1 1 1 1 1 1 1 1 1 1\n",
      " 1 1 1 1 1 1 1 1 1 1 1 1 1 1 0 0 1 1 1 1 1 1 1 1 1 1 1 1 1]\n"
     ]
    }
   ],
   "source": [
    "lr_tfidf_predict=lr.predict(tv_test_reviews)\n",
    "print('predicting_lr_tv:', lr_tfidf_predict)"
   ]
  },
  {
   "cell_type": "markdown",
   "id": "36426999",
   "metadata": {},
   "source": [
    "## accuracy scores"
   ]
  },
  {
   "cell_type": "code",
   "execution_count": 270,
   "id": "c4708206",
   "metadata": {},
   "outputs": [
    {
     "name": "stdout",
     "output_type": "stream",
     "text": [
      "lr_bow_score : 0.5642857142857143\n",
      "lr_tfidf_score : 0.5357142857142857\n"
     ]
    }
   ],
   "source": [
    "#Accuracy score for bag of words\n",
    "lr_bow_score=accuracy_score(test_sentiments,lr_bow_predict)\n",
    "print(\"lr_bow_score :\",lr_bow_score)\n",
    "\n",
    "#Accuracy score for tfidf features\n",
    "lr_tfidf_score=accuracy_score(test_sentiments,lr_tfidf_predict)\n",
    "print(\"lr_tfidf_score :\",lr_tfidf_score)"
   ]
  },
  {
   "cell_type": "markdown",
   "id": "18871955",
   "metadata": {},
   "source": [
    "## classification reports"
   ]
  },
  {
   "cell_type": "code",
   "execution_count": 271,
   "id": "52afba88",
   "metadata": {},
   "outputs": [
    {
     "name": "stdout",
     "output_type": "stream",
     "text": [
      "prediction report for lr_bow\n",
      "              precision    recall  f1-score   support\n",
      "\n",
      "    positive       0.78      0.24      0.37        74\n",
      "    negative       0.52      0.92      0.67        66\n",
      "\n",
      "    accuracy                           0.56       140\n",
      "   macro avg       0.65      0.58      0.52       140\n",
      "weighted avg       0.66      0.56      0.51       140\n",
      "\n",
      "------------------------------------------------------------\n",
      "prediction report for lr_tfidf\n",
      "              precision    recall  f1-score   support\n",
      "\n",
      "    positive       0.80      0.16      0.27        74\n",
      "    negative       0.50      0.95      0.66        66\n",
      "\n",
      "    accuracy                           0.54       140\n",
      "   macro avg       0.65      0.56      0.46       140\n",
      "weighted avg       0.66      0.54      0.45       140\n",
      "\n"
     ]
    }
   ],
   "source": [
    "#Classification report for bag of words \n",
    "lr_bow_report=classification_report(test_sentiments,lr_bow_predict,target_names=['positive','negative'])\n",
    "print('prediction report for lr_bow')\n",
    "print(lr_bow_report)\n",
    "print('-'*60)\n",
    "\n",
    "#Classification report for tfidf features\n",
    "lr_tfidf_report=classification_report(test_sentiments,lr_tfidf_predict,target_names=['positive','negative'])\n",
    "print('prediction report for lr_tfidf')\n",
    "print(lr_tfidf_report)"
   ]
  },
  {
   "cell_type": "markdown",
   "id": "7e20f9b3",
   "metadata": {},
   "source": [
    "## confusion matrix"
   ]
  },
  {
   "cell_type": "code",
   "execution_count": 272,
   "id": "12f06101",
   "metadata": {},
   "outputs": [
    {
     "name": "stdout",
     "output_type": "stream",
     "text": [
      "confusion matrix for bow\n",
      "[[61  5]\n",
      " [56 18]]\n",
      "****************\n",
      "confusion matrix for tfidf\n",
      "[[63  3]\n",
      " [62 12]]\n"
     ]
    }
   ],
   "source": [
    "#confusion matrix for bag of words\n",
    "cm_bow=confusion_matrix(test_sentiments,lr_bow_predict,labels=[1,0])\n",
    "print('confusion matrix for bow')\n",
    "print(cm_bow)\n",
    "print('*'*16)\n",
    "#confusion matrix for tfidf features\n",
    "cm_tfidf=confusion_matrix(test_sentiments,lr_tfidf_predict,labels=[1,0])\n",
    "print('confusion matrix for tfidf')\n",
    "print(cm_tfidf)"
   ]
  },
  {
   "cell_type": "code",
   "execution_count": 273,
   "id": "8283ccfe",
   "metadata": {},
   "outputs": [],
   "source": [
    "#!pip install Image"
   ]
  },
  {
   "cell_type": "code",
   "execution_count": 274,
   "id": "77cc21ca",
   "metadata": {},
   "outputs": [],
   "source": [
    "#!pip install Pillow"
   ]
  },
  {
   "cell_type": "markdown",
   "id": "16fb10a4",
   "metadata": {},
   "source": [
    "## visualize positive and negative words by using WordCloud."
   ]
  },
  {
   "cell_type": "code",
   "execution_count": 355,
   "id": "4575baf9",
   "metadata": {},
   "outputs": [],
   "source": [
    "# # positive\n",
    "\n",
    "# plt.figure(figsize=(10,10))\n",
    "# positive_text=norm_train_reviews\n",
    "# WC=WordCloud(width=1000,height=500,max_words=100,min_font_size=5)\n",
    "# positive_words=WC.generate(str(positive_text))\n",
    "# plt.imshow(positive_words,interpolation='bilinear')\n",
    "# plt.show"
   ]
  },
  {
   "cell_type": "markdown",
   "id": "30bc237a",
   "metadata": {},
   "source": [
    "* extension of Wordcloud image couldnot work on the laptop oops!"
   ]
  },
  {
   "cell_type": "markdown",
   "id": "f8590e22",
   "metadata": {},
   "source": [
    "## Multinomial Naive Bayes\n",
    "* bag of words and \n",
    "* tfidf features"
   ]
  },
  {
   "cell_type": "code",
   "execution_count": 276,
   "id": "80bf727c",
   "metadata": {},
   "outputs": [
    {
     "name": "stdout",
     "output_type": "stream",
     "text": [
      "MultinomialNB()\n",
      "MultinomialNB()\n"
     ]
    }
   ],
   "source": [
    "#training the model\n",
    "mnb=MultinomialNB()\n",
    "#fitting the svm for bag of words\n",
    "mnb_bow=mnb.fit(cv_train_reviews,train_sentiments)\n",
    "print(mnb_bow)\n",
    "\n",
    "#fitting the svm for tfidf features\n",
    "mnb_tfidf=mnb.fit(tv_train_reviews,train_sentiments)\n",
    "print(mnb_tfidf)"
   ]
  },
  {
   "cell_type": "code",
   "execution_count": 277,
   "id": "9ea7dfa0",
   "metadata": {},
   "outputs": [
    {
     "name": "stdout",
     "output_type": "stream",
     "text": [
      "[1 0 0 1 1 0 1 1 1 1 1 1 1 1 0 1 1 1 1 1 0 1 1 1 0 1 0 0 0 1 0 0 0 1 1 1 1\n",
      " 1 1 1 1 1 1 0 1 0 1 1 1 0 0 0 1 1 1 0 0 1 1 1 1 1 1 1 1 0 1 1 0 1 1 1 1 0\n",
      " 1 1 1 1 0 1 1 0 1 1 0 1 0 0 1 0 0 1 1 1 1 0 1 1 0 1 1 1 0 1 0 1 1 1 1 1 1\n",
      " 1 1 1 0 1 1 1 1 1 1 1 1 1 1 0 0 1 1 1 1 1 1 1 1 1 1 1 1 1]\n",
      "[1 0 0 1 1 0 1 1 1 1 1 1 1 1 0 1 1 1 1 1 0 1 1 1 0 1 0 0 0 1 0 0 0 1 1 1 1\n",
      " 1 1 1 1 1 1 0 1 0 1 1 1 0 0 0 1 1 1 0 0 1 1 1 1 1 1 1 1 0 1 1 0 1 1 1 1 0\n",
      " 1 1 1 1 0 1 1 0 1 1 1 1 1 0 1 0 0 1 1 1 1 0 1 1 0 1 1 1 0 1 0 1 1 1 1 1 1\n",
      " 1 1 1 1 1 1 1 1 1 1 1 1 1 1 0 0 1 1 1 1 1 1 1 1 1 1 1 1 1]\n"
     ]
    }
   ],
   "source": [
    "#Predicting the model for bag of words\n",
    "mnb_bow_predict=mnb.predict(cv_test_reviews)\n",
    "print(mnb_bow_predict)\n",
    "#Predicting the model for tfidf features\n",
    "mnb_tfidf_predict=mnb.predict(tv_test_reviews)\n",
    "print(mnb_tfidf_predict)"
   ]
  },
  {
   "cell_type": "code",
   "execution_count": 278,
   "id": "c0bc14c6",
   "metadata": {},
   "outputs": [
    {
     "name": "stdout",
     "output_type": "stream",
     "text": [
      "mnb_bow_score : 0.5714285714285714\n",
      "mnb_tfidf_score : 0.5785714285714286\n"
     ]
    }
   ],
   "source": [
    "#Accuracy score for bag of words\n",
    "mnb_bow_score=accuracy_score(test_sentiments,mnb_bow_predict)\n",
    "print(\"mnb_bow_score :\",mnb_bow_score)\n",
    "#Accuracy score for tfidf features\n",
    "mnb_tfidf_score=accuracy_score(test_sentiments,mnb_tfidf_predict)\n",
    "print(\"mnb_tfidf_score :\",mnb_tfidf_score)"
   ]
  },
  {
   "cell_type": "code",
   "execution_count": 282,
   "id": "751c7377",
   "metadata": {},
   "outputs": [
    {
     "name": "stdout",
     "output_type": "stream",
     "text": [
      "prediction report for mnb_BOW \n",
      "              precision    recall  f1-score   support\n",
      "\n",
      "    Positive       0.69      0.34      0.45        74\n",
      "    Negative       0.53      0.83      0.65        66\n",
      "\n",
      "    accuracy                           0.57       140\n",
      "   macro avg       0.61      0.59      0.55       140\n",
      "weighted avg       0.62      0.57      0.55       140\n",
      "\n",
      "prediction report for mnb_tfidf\n",
      "              precision    recall  f1-score   support\n",
      "\n",
      "    Positive       0.73      0.32      0.45        74\n",
      "    Negative       0.53      0.86      0.66        66\n",
      "\n",
      "    accuracy                           0.58       140\n",
      "   macro avg       0.63      0.59      0.55       140\n",
      "weighted avg       0.64      0.58      0.55       140\n",
      "\n"
     ]
    }
   ],
   "source": [
    "#Classification report for bag of words \n",
    "mnb_bow_report=classification_report(test_sentiments,mnb_bow_predict,target_names=['Positive','Negative'])\n",
    "print('prediction report for mnb_BOW ')\n",
    "print(mnb_bow_report)\n",
    "#Classification report for tfidf features\n",
    "mnb_tfidf_report=classification_report(test_sentiments,mnb_tfidf_predict,target_names=['Positive','Negative'])\n",
    "print('prediction report for mnb_tfidf')\n",
    "print(mnb_tfidf_report)"
   ]
  },
  {
   "cell_type": "code",
   "execution_count": 281,
   "id": "0d9af303",
   "metadata": {},
   "outputs": [
    {
     "name": "stdout",
     "output_type": "stream",
     "text": [
      "confusion matrix for BOW\n",
      "[[55 11]\n",
      " [49 25]]\n",
      "confusion matrix for tfidf\n",
      "[[57  9]\n",
      " [50 24]]\n"
     ]
    }
   ],
   "source": [
    "#confusion matrix for bag of words\n",
    "cm_bow=confusion_matrix(test_sentiments,mnb_bow_predict,labels=[1,0])\n",
    "print('confusion matrix for BOW')\n",
    "print(cm_bow)\n",
    "#confusion matrix for tfidf features\n",
    "cm_tfidf=confusion_matrix(test_sentiments,mnb_tfidf_predict,labels=[1,0])\n",
    "print('confusion matrix for tfidf')\n",
    "print(cm_tfidf)"
   ]
  },
  {
   "cell_type": "markdown",
   "id": "2dce5294",
   "metadata": {},
   "source": [
    "## Deep leaning models"
   ]
  },
  {
   "cell_type": "markdown",
   "id": "e8b5d3c5",
   "metadata": {},
   "source": [
    "## importing necessary tools and libraries"
   ]
  },
  {
   "cell_type": "code",
   "execution_count": 315,
   "id": "2314eb1d",
   "metadata": {},
   "outputs": [],
   "source": [
    "import tensorflow as tf\n",
    "from tensorflow import keras\n",
    "from keras.datasets import imdb\n",
    "from keras.models import Sequential\n",
    "from keras.layers import Dense\n",
    "from keras.layers import Flatten\n",
    "from keras.layers import Conv1D\n",
    "from keras.layers import MaxPooling1D\n",
    "from keras.layers import Embedding\n",
    "from tensorflow.keras import layers\n",
    "from tensorflow.keras.preprocessing import sequence\n",
    "import matplotlib.pyplot as plt\n",
    "from tensorflow.keras.layers import TextVectorization"
   ]
  },
  {
   "cell_type": "markdown",
   "id": "8e10b47d",
   "metadata": {},
   "source": [
    "### Importing the data\n",
    "### Preprocessing the data\n",
    "### Normalization\n",
    "### the API has the following parameters embedded; \n",
    "\n",
    "* Data is imported through the Keras Functional API as tensors. \n",
    "* data is splitted from source by keras API.\n",
    "* data is splitted in to 13 batch size.\n",
    "* data is also classified in to binary(1, 0).\n",
    "* validation_split that divide the training and validation data to 80% and 20% of data sizes."
   ]
  },
  {
   "cell_type": "code",
   "execution_count": 316,
   "id": "dd817ebf",
   "metadata": {},
   "outputs": [
    {
     "name": "stdout",
     "output_type": "stream",
     "text": [
      "Found 1600 files belonging to 2 classes.\n",
      "Using 1280 files for training.\n",
      "Found 1600 files belonging to 2 classes.\n",
      "Using 320 files for validation.\n",
      "Found 400 files belonging to 2 classes.\n",
      "Number of batches in raw_train_ds: 40\n",
      "Number of batches in raw_val_ds: 10\n",
      "Number of batches in raw_test_ds: 13\n",
      "<BatchDataset element_spec=(TensorSpec(shape=(None,), dtype=tf.string, name=None), TensorSpec(shape=(None,), dtype=tf.int32, name=None))>\n"
     ]
    }
   ],
   "source": [
    "batch_size = 32\n",
    "raw_train_ds = tf.keras.preprocessing.text_dataset_from_directory(\n",
    "    \"Assessments/NLP/txt_sentoken/train\",\n",
    "    batch_size=batch_size,\n",
    "    validation_split=0.2,\n",
    "    subset=\"training\",\n",
    "    seed=1337,\n",
    ")\n",
    "raw_val_ds = tf.keras.preprocessing.text_dataset_from_directory(\n",
    "      \"Assessments/NLP/txt_sentoken/train\",\n",
    "    batch_size=batch_size,\n",
    "    validation_split=0.2,\n",
    "    subset=\"validation\",\n",
    "    seed=1337,\n",
    " )\n",
    "raw_test_ds = tf.keras.preprocessing.text_dataset_from_directory(\n",
    "    \"Assessments/NLP/txt_sentoken/test\", batch_size=batch_size\n",
    " )\n",
    "\n",
    "print(f\"Number of batches in raw_train_ds: {raw_train_ds.cardinality()}\")\n",
    "print(f\"Number of batches in raw_val_ds: {raw_val_ds.cardinality()}\")\n",
    "print(f\"Number of batches in raw_test_ds: {raw_test_ds.cardinality()}\")\n",
    "print(raw_train_ds)\n"
   ]
  },
  {
   "cell_type": "code",
   "execution_count": 317,
   "id": "990b52fe",
   "metadata": {},
   "outputs": [
    {
     "name": "stdout",
     "output_type": "stream",
     "text": [
      "b'being that it is a foreign language film with no known names with a select number theaters showing it , \" shall we dance \" won\\'t be seen by that many people . \\nand that\\'s a shame - this is a funny , enchanting , and goofy movie full of laughs , surprises , and wonderful dance sequences . \\nthe surprising thing about \" shall we dance \" is the universal appeal of the story . \\na us version is in the works , and it\\'s no wonder - it\\'s not really all that culture specific . \\nalthough there is a narrated set-up that adds some extra resonance to the proceedings ( about the view the japanese culture has about ballroom dancing ) , the movie is so rich in character and appeal that this added layer isn\\'t at all necessary to understand or enjoy the film . \\nthe only important unexplained japanese-specific reference that may leave some a bit puzzled is that 1000 yen is roughly $10 ( when you see the film - and you should see this film - you\\'ll know why ) . \\na middle aged company man realizes that achieving all the goals he set for himself in life ( a house , a child , and good marriage ) still doesn\\'t translate into a fulfilled life . \\nafter glimpsing a melancholy beauty looking out from a dance studio window while on the train home from work , sugiyana ( koji yakusho ) decides after some trepidation to take up ballroom dance lessons in order to meet the woman who has stirred something in himself . \\nafter finding the weekly fees for private lessons from the elegant and beautiful mai ( tamiyo kusakari ) too rich for his blood , sugiyama opts for groups lessons simply to be near her . \\nwe then meet the players in this gem of a movie , who all have their own reasons for joining the class . \\nlater on , we meet aoki at the dance studio ( naoto takenaka ) , a co-worker and all out weirdo and one of the laugh riot highlights of the film . \\nthe story , laughs , and touching scenes evolve as the movie goes along . \\nit\\'s a pleasure to watch such a wonderful film that is propelled almost solely by the characters and performances . \\nit\\'s difficult to explain the charms of the film without revealing too much - the movie abounds with little revelations that subtly shape the characters , and in the end , each one is that much fuller and more understood by the time you leave the theater . \\nit\\'s one of those movies that only the french seem to make anymore - no big plot , no special effects , no gunplay , no tragic consequences , no forced examinations of the nature of love , and no insights into the nature of evil . \\njust a warm , funny , endearing film that will charm the pants off of you . \\nwhen was the last time you left a theater feeling all warm and fuzzy inside ? \\n \" shall we dance \" will do that to you without any treacly aftertaste . \\n'\n",
      "1\n",
      "b'the obvious reason for producing a sequel to an immensely popular movie is to acquire continued profits . \\nthe rationale is sound , but in many cases of this and recent years , the sequel is a shoddy product that\\'s exposed for the cash-milking vehicle it really is . \\nlast year\\'s speed 2 and scream 2 , as well as this year\\'s species ii have all been products that have been decisively less than satisfactory . \\nin some cases , a sequel can even discredit its predecessor , as with the latest neo-slasher flick , i still know what you did last summer . \\nwhatever uniqueness the original might\\'ve had now seems trite and overplayed when paired with this abominable thriller . \\njulie james ( jennifer love hewitt ) and ray bronson ( freddie prinze jr . ) are back from the original to star in i still know , reprising their roles in typical fashion . \\njulie and ray experience a rather predictable falling-out at the beginning of the movie , leaving the door wide open for newcomer will benson ( matthew settle ) . \\nwill and julie hit it off , and along with friends karla ( brandy norwood ) and tyrell ( mekhi phifer ) , the foursome heads off to a radio station-giveaway vacation in the tropics . \\nunfortunately , things aren\\'t so peachy once they arrive , and with a regularity you could set your watch by , the infamous fisherman ( muse watson ) is back with his hook . \\nit\\'s another bloody showdown , complete with cliffhanger ending . \\nthere\\'s not much that\\'s original about i still know , and with the market saturated by gen-x thrillers like this one , it\\'s unlikely that i still know will get any recognition other than that of a bad sequel . \\nfor die-hard fans of the genre , this will be required viewing material , but the bottom line is that the material here is just recycled from the original i know what you did last summer . \\nthe aura of thrillerism surrounding the plot isn\\'t heightened by skillful scripting or camera work , but rather a tense , string-based score and manipulative editing . \\nthe man with the hook ends up becoming very belittled this time around when the script gives him too many lines of dialogue -- he goes from being a scary figure to a nutcase in a few short and painful moments . \\nmuch of the mystery is dropped for the sake of getting the point . \\nthe whole reason the plot exists - julie and karla must guess the capital of brazil in order to win the trip from the radio station - is a dead giveaway , lessening suspense and creating a hurry-up-and-wait timing problem . \\nand , whereas the killer\\'s identity might\\'ve been a question in the first movie , it\\'s almost a given here , which changes the dynamic of the movie drastically . \\nthree or four teens run automatically from a man in a rain slicker they nonchalantly refer to as \" the killer . \" \\nthey\\'re almost used to it , and the performances show it - not hewitt , nor prinze , nor brandy , nor phifer give a decent show . \\nand so , in the end , it\\'s left wide open for a third movie and - most likely - a brand new supporting cast . \\ngod help us . \\n'\n",
      "0\n",
      "b'movies about teenagers and teenage culture rarely prove to be either interesting , entertaining or convincing , because of one fundamental reason : movies are made by adults and not teenagers . \\noccasionally , however , films like say anything , dazed and confused and the breakfast club will break the mold and offer genuine insight into the lives of those bizarre creatures which surround us called \" teenagers . \" \\ncan\\'t hardly wait , however , does not . \\ninstead , the writing/directing team of harry elfont and deborah kaplan manages to take every clich ? found in the teenage genre , strip it completely of perception , intelligence and wit - and turn it into one of the most nauseating cinematic experiences i have ever been subjected to . \\ncan\\'t hardly wait follows a group of characters as they attend a house party on the night of their high school graduation . \\nthe main characters are such perfected stereotypes that no analysis needs to be provided to perfectly understand them : there\\'s the average male protagonist preston ( ethan embry ) , prom queen and cheerleader amanda ( jennifer love-hewitt ) , football star mike ( peter facinelli ) , white rapper wannabe kenny ( seth green ) , computer geek william ( charlie korsmo ) , and brainy outsider denise ( lauren ambrose ) . \\ni couldn\\'t stand any of those characters . \\nwhether it was william getting drunk and signing along to heavy metal songs or kenny proclaiming \" yo , i gotta have sex tonight ! \" , \\nall i could think of was how elfont and kaplan possibly managed to con columbia pictures out of ten million dollars to fund their film . \\napparently , can\\'t hardly wait is supposed to be a comedy , but it tends to fail in this respect because of the fact that it\\'s not funny . \\nin all honesty , elfont and kaplan should be forced by their employers to attend remedial classes in humour . \\nand when i say \" forced \" , i mean it . \\nthey should be strapped down to a chair and have their eyes wedged open in a similar fashion to alex in a clockwork orange . \\nthis is how desperately they need to be educated about the concept of humour . \\nfor instance , can\\'t hardly wait features a foreign exchange student who is instructed to repeat absurd statements such as \" i am a sex machine . \" \\nfor some reason , elfont and kaplan believe that if this character repeats it enough , eventually it will be funny . \\nif only elfont and kaplan could recognise the irony that they actually got paid for making this junk - now that\\'s funny . \\n'\n",
      "0\n",
      "b\"girl 6 is , in a word , a mess . \\ni was never able to determine what spike lee was trying to accomplish with this film . \\nthere was no sense of where the film was going , or any kind of coherent narrative . \\nif there was a point to the film , i missed it . \\ngirl 6 , by the way , is the way theresa randle's character is addressed in the phone sex workplace ; all the girls are known by their numbers . \\nthe plot , such as it is : theresa randle is a struggling n . y . actress , and eventually takes a job as a phone-sex operator . \\nshe begins to lose contact with reality , as her job consumes her . \\nalso , she must deal with the advances of her ex-husband ( isiah washington ) . \\nhe is an ex- con thief , and she tries to keep him away , while at the same time , it's clear that she still harbors feelings for him . \\nher neighbor , jimmy ( spike lee ) functions as the observer ; mediating between the ex- husband and girl 6 . \\nhe also functions as a point of stability , as he watches her become seduced by the lurid world of phone sex . \\nthe soundtrack , consisting of songs by prince , was jarring . \\nit kept taking my attention from the film - not altogether a bad thing , i'll grant you , as what was transpiring onscreen wasn't that riveting . \\nfor parts of the middle of the film , the music stayed blissfully in the background . \\nin the opening sequence and one scene later in the film , however , the music was particularly loud and distracting . \\nof course , i've never really cared for prince's ( or tafkap if you like ) music . \\nprince fans might love the soundtrack , but it will probably be distracting , even to die-hard fans . \\nof the performances , the only one that stood out was spike lee's buddy character , jimmy . \\nhe was excellent as the always-broke neighbor of girl 6 . \\nhe should have stuck to acting in this film . \\nthere are several sequences that gave me the impression that he'd like to be oliver stone when he grows up . \\nthere are scenes shot with different types of film , which are purposely grainy , and reminiscent of some of the scenes in oliver stone's natural born killers . \\nin that film , they worked to propel the narrative . \\nin this film , they just made me more confused . \\nthere are some amusing moments , and a few insights into the lives of the women who use their voices to make the phone-sex industry the multi-billion dollar industry that it has become . \\nother than that , though , nothing much happens . \\nthere are a few intense moments , as when one caller becomes frightening , but even that is rather lackluster . \\ni'm not the biggest fan of spike lee , though i'd agree that he has done some very good work in the past . \\nin girl 6 , though , he seems to be floundering . \\nhe had an interesting idea , a fairly good setup , and seemed to wander aimlessly from there . \\ngirl 6 earns a grade of d . \\n\"\n",
      "0\n",
      "b\"one of the funniest carry on movies and the third with a medical setting . \\nthe main story is about dr . james nookey ( jim dale ) who is disliked by his superiors , frederick carver , head of the hospital ( kenneth williams ) , and dr . ernest stoppidge ( charles hawtrey ) who seems to dislike everyone . \\nthey attempt to cause him as much trouble in the hospital as possible and all the blame is laid on nookey . \\ncarver learns of a possible job opportunity from wealthy ellen moore ( joan sims ) on a distant tropical island and gets nookey trannsferred there . \\nwhen nookey arrives at this island , he meets gladstone screwer ( sid james ) who has lived on the island just about all his life . \\nscrewer is in possession of a wonderful slimming drug made from natural ingredients . \\ndr . nookey returns with the drug to england and sets up a new slimming business with ellen moore's financial backing . \\nhowever , nookey and moore face opposition from screwer who goes to england to cash in on the drug , and carver and stoppidge who want to know the ingredients to create a rival drug . \\nthe performances are all very commendable . \\nsid james has a slightly ambiguous character to play this time and he excels in his role . \\nkenneth williams , as usual , plays the unpopular and cunning head of the hospital . \\njoan sims is entertaining as the wealthy benefactor and jim dale should really head the cast with his excellent portrayal of bumbling nookey . \\ncharles hawtrey plays an 'out-of-character' role as dr . stoppidge , the nasty and evil practitioner who wants to knock nookey off his perch . \\nsome critics have said that this combination of hawtrey and stoppidge does not work well , but i think that it at least gives hawtrey a new part to play instead of the usual dimwit characters . \\nas a matter of fact , hawtrey is suitably cunning in the part . \\nother regulars in the movie include hattie jacques as the matron yet again ( but this part is probably her most boring 'matron' ) and barbara windsor as nookey's love interest and unofficial 'women's lib' campaigner , goldie locks . \\nboth jacques and windsor play their parts well . \\npatsy rowlands appears briefly as miss fosdick , and there are very small cameos from wilfrid brambell ( from 'steptoe and son' fame ) and peter butterworth . \\nthe jokes are mostly very funny , the story is quite appealing , and the regulars seem interested in what they're doing . \\nalthough it is another medical carry on movie and some of the jokes are borrowed from previous movies , it still comes out on top ( it is the best medical carry on ) because of the above factors . \\na must-see carry on movie . \\n\"\n",
      "1\n"
     ]
    }
   ],
   "source": [
    "# preview a few samples \n",
    "# show binary data\n",
    "\n",
    "for text_batch, label_batch in raw_train_ds.take(1):\n",
    "    for i in range(5):\n",
    "        print(text_batch.numpy()[i])\n",
    "        print(label_batch.numpy()[i])\n"
   ]
  },
  {
   "cell_type": "code",
   "execution_count": 318,
   "id": "04f21fe6",
   "metadata": {},
   "outputs": [
    {
     "name": "stdout",
     "output_type": "stream",
     "text": [
      "tf.Tensor(b\"i must say from the outset that i have never been much of a kurt russell fan . \\ni've seen some of his films ( silkwood , backdraft , unlawful entry ) and while he gave adequate performances , i have never been impressed with his work . \\nbreakdown , then , is something of a surprise . \\nrussell gives a fine performance , as do most of the cast , one that is not upstaged by the action orchestrated in the second half of the film . \\nto say that he holds the film together would not be completely true , but he does it no harm . \\nrussell plays jeff , one half of a married couple travelling with his wife amy ( kathleen quinlan ) cross country to san diego to start a new job and a new life . \\nwhile journeying through the desert their car breaks down and , left helpless and stranded , jeff waves down a passing truck driver ( j . t . \\nwalsh ) who offers to take them to a nearby diner to call for a tow truck . \\nbecause of a nasty incident earlier with a couple of ruffians , jeff decides to stay with the car while amy gets help . \\nthat , it seems , is the last time jeff ( or anyone else ) sees her . \\nbreakdown has been compared to several movies : george sluizer's the vanishing ( the original , hopefully , not his appalling hollywood remake ) , steven spielberg's duel and any number of hitchcock films . \\nas with these , breakdown does not , for the most part , stray down the conventional path of the american action-thriller . \\njeff does not become a gun-toting vigilante on the hunt for his wife , but instead becomes a scared , confused everyman who has no idea what the hell is going on . \\nwhen we do find out what has happened to amy , it does come as a slight disappointment , if only because it's too early in the film ; i for one could have done with an extra twenty minutes or so of mystery and bewilderment , but this affects the film little . \\nrussell , as mentioned earlier , is very good in his role , and kathleen quinlan is nowhere near as annoying as she was in apollo 13 . \\nj . t . \\nwalsh , as the possibly evil truck driver , is terrific ; he is one of the best of the fine batch of character actors hollywood doesn't seem to know what to do with , but director jonathan mostow is on the right track here . \\nthe reason he makes such a great villain is that he actually looks like a real person , one anyone would be able to trust , which makes the plot that much more believable . \\nbreakdown is what hollywood doesn't make enough of , a great thriller with believable characters and scenes that do , indeed , have viewers on the edge of their seats . \\none of the most genuinely exciting films i've seen in a long time . \\n\", shape=(), dtype=string)---------------tf.Tensor(1, shape=(), dtype=int32)\n",
      "tf.Tensor(b'the first in a very long list of things wrong with \" i still know what you did last summer \" is the title . \\nthink about it for a second . \\nif the last movie was called \" i know what you did last summer \" , wouldn\\'t the next movie have to be \" i still know what you did two summers ago \" ? \\nif anyone working on this movie had an i . q . \\ngreater than five would have thought about it logically and said , \" hey . . . \\nwait a minute \" . \\nbut alas , the people behind this film are obviously idiots , so i won\\'t hold them to that . \\nwhat i will hold them to is the fact that they have a pretty bad movie on their hands , even for a teenage slasher flick . \\ni guess i\\'m one of the few critics who actually kind of liked the original film ( emphasis on the \" kind of \" ) . \\nit wasn\\'t great or anything and maybe not even necessarily good , but at least it didn\\'t have me glancing at my watch every minute or so like it\\'s sequel did . \\nthere are just so many problems with this movie that it\\'s hard trying to figure out where to start . \\nfirst of all , i guess , is the setting . \\nthe movie offers no rational reason why the film had to take place in the bahamas , other than the fact that the producers wanted a seaside setting . \\nexactly why does the fisherman want to go through all the trouble of faking a radio contest to get julie james ( jennifer love hewitt , one of the only survivors of the first film ) and her new college buddies out to the islands before he hacks them up ? \\nthe movie suffers from this kind of logic all the way through . \\nin one scene , julie is in a tanning booth at a deserted gym when the hooked fisherman with the slicker comes in and seals up the booth so the damsel in distress can\\'t get out , no matter how hard she tries . \\nwhen julie discovers she\\'s going to slowly fry to death , she screams for help and her friends come to her rescue . \\nnow , this is all fine and dandy except for one thing ; instead of spending five minutes trying to bust open the booth , why not just turn the freakin\\' thing off ? \\nin another scene , one of the characters , after having their significant other all but decapitated by the man in the slicker , says to julie , \" just don\\'t tell anybody it rained the whole time . \" \\noh yeah , i\\'ve just been terrorized by a hook wielding sociopath and had some of my best friends gruesomely slaughtered , but hey , i\\'ll crack jokes anyway . \\nafter all , it is in the script . \\nthe film\\'s only saving graces are a few well-executed suspense sequences and a really cool cameo by the \" re-animator himself , jeffrey combs . \\nhe brings some good comic relief and life to an otherwise limp movie . \\nway to go , jeffrey . \\ni have a hunch that the reason this film fizzles while the first one at least kept it\\'s head above water is the recent absence of writer kevin williamson . \\nwith \" scream \" and even it\\'s sequel , he displayed a real talent as a screenwriter . \\nhis ear for dialogue and the terrific endings he puts on all his films make him a standout from all the rest of the horror writers , and i think \" i still know \" has really suffered by not having him on board . \\nthe cool atmosphere is still there this time around , but i just didn\\'t like the characters or the writing as much as i did in the first one . \\neven though the movie doesn\\'t have williamson , it still has a hacky ending , trying to do what kevin did with the first two \" scream \" s by ( some may consider this a spoiler , but if you have seen any horror movies whatsoever , then you should be able to guess the identity of the madman within twenty minutes ) having two killers and , this time , having one of them being a family member to the other . \\ni think someone in the audience put it best when , after the movie had ended with another \" the killer is back ! \" \\ncliffhanger , he said \" who is this time , the grandma ? \" \\nall in all , \" i still know \" tries to be as successful as the first the film was , but really fails in the attempt . \\ni mean , it\\'s okay when slasher movies rip-off each other , but when they start copying themselves . . . \\n', shape=(), dtype=string)---------------tf.Tensor(0, shape=(), dtype=int32)\n",
      "tf.Tensor(b\"an unhappy italian housewife , a lonely waiter , a goofy masseuse , lots of love , and gorgeous scenery all come together in bread and tulips , which proves charming despite its covering of predictable , well-worn material . \\nthe story concerns the aforementioned housewife , rosalba barletta ( licia maglietta ) who accidentally becomes separated from her immediate family while on vacation . \\ninstead of waiting for a ride home , rosalba opts not to go home to her italian town , but to instead hitchhike to venice . \\nupon arriving , she tells her self-centered husband , mimmo ( an excellent antonio catania ) that she'll be home in a few days . \\nof course , that doesn't happen , as rosalba quickly gains a level of independence that has been unattainable in her past life of scrubbing floors and buying groceries . \\nin what seems like days , she moves in with lonely , suicidal waiter fernando ( bruno ganz ) , gets a job as a florist , learns the accordion , and befriends her neighbor -- a wacky holistic masseuse named grazia ( marina massironi ) . \\nrosalba , who is first seen wearing a gaudy stretch pants outfit , starts wearing sexy dresses and getting closer to fernando . \\ni can think of at least five other ( american ) movies ( including fried green tomatoes and an unmarried woman ) that are more than similar to bread and tulips . \\nbut maglietta and ganz , who act with restraint and care , help bread and tulips from becoming a tired retread . \\nganz plays the suicidal waiter role with a solemn , sometimes playful dignity that is a joy to watch , while maglietta never overreacts to her growing comfort with the outside world . \\nthroughout the movie , maglietta has an easygoing , confident demeanor , which makes it very easy to root for her and her growing attraction for ganz's character . \\nthe gorgeous scenery of moonlit town squares and sparkling rivers provides a perfect love story backdrop -- you just might want to ask the attractive stranger in the seat behind you for coffee after the lights come up . \\ndirector and co-writer silvio soldini must get credit for sprinkling the movie with effective goofy humor . \\nthe cheap mimmo , desperate to find his wife ( after all , he needs his shirts ironed and his mistress won't do it ) , hires a job applicant ( giuseppe battiston ) at his bathroom supply firm to do the job . \\nthe reason ? \\nmimmo discovers that the prospective plumber loves detective stories . \\nthe novice detective's various misfortunes , including him saying goodbye to his weepy mother , are very funny . \\nunfortunately , there are flaws that somewhat spoil bread and tulips' cheery tone . \\nrosalba is bothered by several surreal dreams during her time in venice , which bring the movie to a halt . \\nit's like putting a gunfight in a nora ephron movie . \\nseveral details in fernando's life also never get proper closure , including his suicidal tendencies . \\nearly in the movie , he nearly hangs himself before rosalba knocks on his apartment door . \\nafter that , fernando's step towards death is never made reference to , probably because soldini wanted to include a lukewarm , underdeveloped subplot about fernando's stormy past . \\nit seems more like a desperate attempt to pump up the drama in a plot that doesn't need any . \\nbut there aren't a lot of overwhelming negatives in bread and tulips . \\nthe movie is fun and romantic , with beautiful scenery and characters whose lives we'd like to live if we had the nerve . . . \\nor if our passports weren't missing . \\n\", shape=(), dtype=string)---------------tf.Tensor(1, shape=(), dtype=int32)\n",
      "tf.Tensor(b'catherine deane ( jennifer lopez ) is a psychologist who has been hired to participate in a project where she can enter the minds of comatose victims and try to interact with their subconscious in an attempt to wake them up . \\nshe has been experiencing moderate success with a young boy in a coma , but the boy\\'s parents aren\\'t happy with the apparent lack of progress and the toll of her job is having adverse affects on her regular life . \\nas if trying to assure the boy\\'s parents wasn\\'t hard enough on her , a new development arises that furthers the strain on deane\\'s mental faculties . \\na vicious serial killer named carl stargher ( vincent d\\'onofrio ) has been kidnapping women , locking them in an automated cell that drowns them slowly in a matter of days , then soaking the corpses in bleach to turn them into life-sized dolls . \\njust after kidnapping his latest victim and locking her in the cell , stargher has a traumatic experience that triggers a schizophrenic virus in his brain and causes him to sink in an eternal catatonia . \\nthe police , led by fbi agent peter novak ( vince vaughn ) are able to locate stargher by some clues he left while dumping his previous victim\\'s body , but they feel all hope is lost for his current victim due to his vegetative state . \\nin a last ditch attempt , they ask deane and the scientists that created the project to undergo the frightening task of entering stargher\\'s mind to try and find the location of the victim locked in the deadly cell . . . \\na cell which will completely fill with water in the next 40 hours ! \\ninitial reports about this film described it as a cross between the silence of the lambs and the matrix . \\nwhile it does share some characteristics with both films ( particularly the first forty minutes , which seem almost like a condensed version of lambs ) , the cell also seems to contain elements of dreamscape and brainstorm . \\nthe buzz around this project is that first-time feature film director tarsem singh ( who won many awards for his video of r . e . m . \\'s \" losing my religion \" ) wanted a script that he could fashion images out of instead of a cohesive story , and a good portion of this film supports that theory . \\ndespite the borrowed elements from the aforementioned films and a script that contains several logically questionable moments , the cell does feature some remarkable imagery . \\nall of the sequences where we delve into someone\\'s mind are incredibly beautiful ( including the dank mind of stargher , whose thoughts are reminiscent of an h . r . giger painting come to life mixed with a tool music video ) , proving that singh is as adept at filming strange and wonderful images as his acclaim would lead us to believe . \\nthe first sequence that takes place in stargher\\'s mind is by far the best , featuring one of the most ingenious traps i\\'ve ever seen in a film ( involving a horse , which no one seeing this film will probably forget ) , a zoo-like display of stargher\\'s victims which are animated like marionettes , and stargher himself in a giant purple cape that spans the walls of his mental throne room . \\nif the film had continued within this dirty monstrous world i would have deemed the film brilliant , but alas , the sequences only become more silly as they go along ( despite a painful nipple ring removal later in the film ) . \\nthe cast is basically just an excuse for there to be some moderate plot semblance during the parade of images , but at least vincent d\\'onofrio turns in his usual bizarre and psychotic performance ( magnified by ten , thanks to the environment in which the film has been placed ) . \\nin my opinion , d\\'onofrio was one of the best creepy actors i have ever seen in a film , but his film choices as of late have been so completely awful ( i . e . - \\nthe newton boys , feeling minnesota , the thirteenth floor , and the velocity of gary ) that i have begun to rethink my initial assessment of him . \\nthe character of stargher is an excellent role for him though , and will probably lead to a bit of typecasting for him . \\ndetractors of violence and disturbing images will want to stay far away from this film , as it contains heavy doses of both . \\nbesides the nipple ring removal i mention above , there is also stargher\\'s penchant for hanging suspended off of the floor by the rings that pierce his back and legs ( prior to his catatonia and capture ) which will have audiences recoiling . \\na sequence where catherine enters stargher\\'s mind and finds him recreating the disemboweling of his first victim is also pretty disquieting . \\none moment also features a character having his intestines slowly removed from his body by an old fashioned hand cranked spit-like device . \\nas a narrative film , the cell is sorely lacking . \\nas a collection of images though , the cell is extremely well done . \\nalthough the latter sequences in the film contain fewer disturbing imagery than the first half , singh has done what he supposedly set out to do : make a film solely for the purpose of stringing some remarkable images together . \\nunfortunately , a well-written script should have been considered too , because without it the cell just seems like any other music video we could see on mtv ( provided , of course , that mtv allowed for the use of graphic violence and language in music videos ) . \\n', shape=(), dtype=string)---------------tf.Tensor(1, shape=(), dtype=int32)\n",
      "tf.Tensor(b\"i don't box with kid gloves . \\ni don't play nice , i'm not a nice guy , and i never , ever , go easy on a film . \\ni consider it to be a breech of some sort of code of ethics for a movie critic . \\nhowever , i do some favors , and these often come in the form of points that i hand to certain groups due to the artistic bravery . \\nrigormortis , the production company that has been my prime example of how money does not need to motivate filmmaking , gets several of these points each time . \\ni still , however , will not go easy on them . \\nthey recently sent me a vhs copy of their down with america trilogy ( which begins , quite wittily , with a disclaimer that they are not trying to undermine america with the making of this film . ) and i decided to spend an hour of my day watching it . \\nin the famous lines of many martyrs , i have no regrets . \\nwell , i do have some regrets , but that is not the point in the previous sentence . \\nthe point of it was that down with america was a film that , from a critical standpoint , did not entirely disappoint me . \\nsure , the risky use of vhs instead of super 8mm or 16mm was a pain , and the natural light was one of the most annoying things about public access films , but the movie itself was fairly enjoyable . \\ndown with america concerns a government agent , needless murder , and a book containing everything from the unabomber's manifesto to the 1995 apple computer profit report . \\nlike the previous films of rigormortis that i have reviewed , it displays an off-kilter humor and intelligence ? it succeeds in making me laugh where countless studio films fail . \\nthe best way to see this film would be as a parody of the countless conspiracy films that we have been drowned in since the paranoia of the 80s . \\na dying movement from the day they started , these paranoid `thrillers' had the government always covering up something and had the same favorite word : `roswell . ' \\nin down with america , the line `roswell' is highly absent . \\nwith an about ten minute running time , down with america effortlessly sidesteps every clich ? that the conspiracy films fell into , makes jokes at them at the same time , and provides us with funny and memorable characters . \\nagain , i have seen movies that have gone on two hours with characters i couldn't care less about . \\nthe film , as previously stated , concerns a federal agent ( peter roach ) , an obsessed librarian ( meri stevens ) , a mystery man ( joe kaczkowski ) , and two people obsessed with silence in the library ( robb sherman , kevin flowers ) . \\nthe plot : a book containing the secrets of all anarchists is hidden in ? a public library where it can be viewed by all . \\nfrom there we go into a delightful parody . \\nthe federal agent claims his sovereign right to alter the truth , the librarian goes on a diatribe about the sanctity of books . \\nwe spend our time laughing at fairly idiotic jokes that are performed much too well considering the lack of coaching of the cast . \\nalthough the actors and actresses are in small roles and give a whole new meaning to `no-name' , it ends up being the no-name people who do a good job , delivering better performances as comic villains than half the crap that hollywood turns out . \\nfor once , i don't have a url that i know offhand to give you as to where to locate the film online . \\ni can only say that you should find my previous reviews of l'auto and les x-files and look up the rigormortis productions site in and of itself . \\nit's almost as much fun as the film . \\n\", shape=(), dtype=string)---------------tf.Tensor(1, shape=(), dtype=int32)\n"
     ]
    }
   ],
   "source": [
    "# different way to view the data\n",
    "for input, label in raw_train_ds.unbatch().take(5):\n",
    "    print(input,label, sep=\"---------------\")"
   ]
  },
  {
   "cell_type": "code",
   "execution_count": 319,
   "id": "14a5f854",
   "metadata": {},
   "outputs": [
    {
     "data": {
      "text/plain": [
       "tensorflow.python.framework.ops.EagerTensor"
      ]
     },
     "execution_count": 319,
     "metadata": {},
     "output_type": "execute_result"
    }
   ],
   "source": [
    "# check the data type of input\n",
    "\n",
    "type(input)"
   ]
  },
  {
   "cell_type": "markdown",
   "id": "77da2096",
   "metadata": {},
   "source": [
    "### A function that cleans the data called custom_standardization\n",
    "### TextVectorization - that vectorizes the data is applied.\n",
    "### testing data is mapped to remove labels"
   ]
  },
  {
   "cell_type": "code",
   "execution_count": 320,
   "id": "c411b5c8",
   "metadata": {},
   "outputs": [],
   "source": [
    "# Model constants.\n",
    "max_features = 1600\n",
    "embedding_dim = 128\n",
    "sequence_length = 500\n",
    "\n",
    "# I still ned to remove '\\n' and lower all letters as part of preprocessing \n",
    "# using the custom standardization\n",
    "\n",
    "def custom_standardization(raw_train_ds):\n",
    "    lowercase = tf.strings.lower(raw_train_ds)\n",
    "    stripped_newline = tf.strings.regex_replace(lowercase, \"\\n\", \" \") \n",
    "    \n",
    "    return tf.strings.regex_replace( stripped_newline,\n",
    "         f\"[{re.escape(string.punctuation)}]\", \"\"\n",
    "    )\n",
    "\n",
    "\n",
    "vectorize_layer = TextVectorization(\n",
    "    standardize=custom_standardization,\n",
    "    max_tokens=max_features,\n",
    "    output_mode=\"int\",\n",
    "    output_sequence_length=sequence_length,\n",
    ")\n",
    "\n",
    "#def flaten_data(x,y):\n",
    " #   return x\n",
    "\n",
    "# Let's make a text-only dataset (no labels):\n",
    "text_ds = raw_train_ds.map(lambda x, y:x)\n",
    "#Let's call `adapt`:\n",
    "vectorize_layer.adapt(text_ds)"
   ]
  },
  {
   "cell_type": "markdown",
   "id": "4cd590b3",
   "metadata": {},
   "source": [
    "## Apply the function vectorize_text to the data, \n",
    "### change the shape for better performance in the model"
   ]
  },
  {
   "cell_type": "code",
   "execution_count": 321,
   "id": "6c15203b",
   "metadata": {},
   "outputs": [
    {
     "name": "stdout",
     "output_type": "stream",
     "text": [
      "before: Tensor(\"args_0:0\", shape=(None,), dtype=string)\n",
      "after: Tensor(\"text_vectorization_1/RaggedToTensor/RaggedTensorToTensor:0\", shape=(None, 500), dtype=int64)\n",
      "before: Tensor(\"args_0:0\", shape=(None,), dtype=string)\n",
      "after: Tensor(\"text_vectorization_1/RaggedToTensor/RaggedTensorToTensor:0\", shape=(None, 500), dtype=int64)\n",
      "before: Tensor(\"args_0:0\", shape=(None,), dtype=string)\n",
      "after: Tensor(\"text_vectorization_1/RaggedToTensor/RaggedTensorToTensor:0\", shape=(None, 500), dtype=int64)\n"
     ]
    }
   ],
   "source": [
    "\n",
    "def vectorize_text(text, label):\n",
    "    print(f'before: {text}')\n",
    "    text = tf.expand_dims(text, -1)\n",
    "    print(f'after: {str(vectorize_layer(text))}')\n",
    "    return vectorize_layer(text), label\n",
    "\n",
    "\n",
    "# Vectorize the data.\n",
    "train_ds = raw_train_ds.map(vectorize_text)\n",
    "val_ds = raw_val_ds.map(vectorize_text)\n",
    "test_ds = raw_test_ds.map(vectorize_text)\n",
    "\n",
    "# for i,k in train_ds:\n",
    "#     print(i,k, sep='\\n')\n",
    "\n",
    "# Do async prefetching / buffering of the data for best performance on GPU.\n",
    "train_ds = train_ds.cache().prefetch(buffer_size=10)\n",
    "val_ds = val_ds.cache().prefetch(buffer_size=10)\n",
    "test_ds = test_ds.cache().prefetch(buffer_size=10)"
   ]
  },
  {
   "cell_type": "markdown",
   "id": "14f08288",
   "metadata": {},
   "source": [
    "### convert the tensor shape into a list vectorized layers"
   ]
  },
  {
   "cell_type": "code",
   "execution_count": 322,
   "id": "4b63cfff",
   "metadata": {},
   "outputs": [
    {
     "data": {
      "text/plain": [
       "[(<tf.Tensor: shape=(32, 500), dtype=int64, numpy=\n",
       "  array([[   1,  961,    1, ...,    0,    0,    0],\n",
       "         [1078,    2,  146, ...,    0,    0,    0],\n",
       "         [ 681,    8,    2, ...,  301, 1419,    6],\n",
       "         ...,\n",
       "         [   2,  285,  355, ...,   24,  706,    9],\n",
       "         [   3,  799,  429, ...,    0,    0,    0],\n",
       "         [  10,  477,  148, ...,    1,   28,  112]], dtype=int64)>,\n",
       "  <tf.Tensor: shape=(32,), dtype=int32, numpy=\n",
       "  array([0, 0, 0, 1, 0, 1, 0, 1, 0, 0, 0, 1, 0, 0, 0, 1, 0, 1, 0, 1, 1, 1,\n",
       "         1, 0, 1, 1, 0, 1, 0, 0, 1, 0])>),\n",
       " (<tf.Tensor: shape=(32, 500), dtype=int64, numpy=\n",
       "  array([[ 139,    3, 1099, ...,  143,   53,    7],\n",
       "         [   1,    6,  134, ...,    6,    1,   10],\n",
       "         [   2,    1,  887, ...,   75, 1304,    1],\n",
       "         ...,\n",
       "         [  12,  116,    1, ...,  141,  115,    2],\n",
       "         [   8,    2,  583, ...,  278,    6,  161],\n",
       "         [  28,    5,    2, ...,   74,    1,    4]], dtype=int64)>,\n",
       "  <tf.Tensor: shape=(32,), dtype=int32, numpy=\n",
       "  array([1, 1, 0, 0, 1, 0, 1, 1, 1, 1, 0, 0, 0, 1, 1, 1, 1, 1, 1, 0, 1, 0,\n",
       "         1, 0, 1, 0, 1, 1, 1, 1, 0, 1])>),\n",
       " (<tf.Tensor: shape=(32, 500), dtype=int64, numpy=\n",
       "  array([[   1,   68,  561, ...,    1,   26,  108],\n",
       "         [   8, 1204,  138, ...,   44,   18,    7],\n",
       "         [  19,  121, 1025, ...,   32,  937,    1],\n",
       "         ...,\n",
       "         [1431,   36, 1082, ...,   23,    3,   16],\n",
       "         [  13,    3,   27, ...,  247,   17, 1546],\n",
       "         [ 125,    1,   16, ...,    7,    3, 1374]], dtype=int64)>,\n",
       "  <tf.Tensor: shape=(32,), dtype=int32, numpy=\n",
       "  array([1, 1, 1, 1, 1, 0, 1, 0, 0, 0, 1, 1, 0, 1, 1, 0, 1, 1, 0, 0, 1, 0,\n",
       "         0, 0, 1, 0, 0, 1, 0, 1, 1, 1])>),\n",
       " (<tf.Tensor: shape=(32, 500), dtype=int64, numpy=\n",
       "  array([[   1,    7,    3, ...,    0,    0,    0],\n",
       "         [   1, 1320,  985, ...,    1,  869,    2],\n",
       "         [   2,  178,  916, ...,    0,    0,    0],\n",
       "         ...,\n",
       "         [   6,  316,   10, ...,    0,    0,    0],\n",
       "         [  23,    1,    2, ...,  218,    5,    1],\n",
       "         [   3,  619,   95, ...,    0,    0,    0]], dtype=int64)>,\n",
       "  <tf.Tensor: shape=(32,), dtype=int32, numpy=\n",
       "  array([0, 1, 1, 0, 0, 1, 0, 0, 1, 0, 1, 1, 1, 0, 0, 1, 0, 1, 0, 1, 1, 0,\n",
       "         0, 1, 0, 1, 0, 1, 1, 0, 0, 1])>),\n",
       " (<tf.Tensor: shape=(32, 500), dtype=int64, numpy=\n",
       "  array([[  53,   21,  247, ...,    6,  238,   48],\n",
       "         [1250,    1,    1, ...,    0,    0,    0],\n",
       "         [  36,  119,    2, ...,    0,    0,    0],\n",
       "         ...,\n",
       "         [1435, 1417, 1212, ...,    3,  854,  182],\n",
       "         [  19,   65,   83, ...,  730,    6,    1],\n",
       "         [   1,    4,  261, ...,   42,   53,    2]], dtype=int64)>,\n",
       "  <tf.Tensor: shape=(32,), dtype=int32, numpy=\n",
       "  array([1, 0, 0, 1, 0, 0, 1, 0, 1, 1, 0, 0, 0, 1, 0, 1, 0, 0, 0, 0, 0, 1,\n",
       "         1, 0, 0, 0, 0, 0, 0, 0, 0, 0])>),\n",
       " (<tf.Tensor: shape=(32, 500), dtype=int64, numpy=\n",
       "  array([[  1, 366, 158, ...,   0,   0,   0],\n",
       "         [  2,  16, 181, ..., 947,   5, 214],\n",
       "         [  3, 372,   5, ...,  63, 717,  23],\n",
       "         ...,\n",
       "         [ 15,  16,   7, ...,  27,  17, 104],\n",
       "         [  1,   6, 267, ...,  62,   1, 152],\n",
       "         [ 15,  27,   7, ...,  52,  36, 891]], dtype=int64)>,\n",
       "  <tf.Tensor: shape=(32,), dtype=int32, numpy=\n",
       "  array([1, 0, 1, 0, 1, 1, 0, 0, 1, 0, 0, 1, 0, 0, 0, 1, 1, 1, 1, 0, 0, 0,\n",
       "         1, 0, 0, 1, 0, 1, 1, 1, 1, 0])>),\n",
       " (<tf.Tensor: shape=(32, 500), dtype=int64, numpy=\n",
       "  array([[   1, 1023,  138, ...,    5,    2,   16],\n",
       "         [ 480,  331,   34, ...,   79,  224,    2],\n",
       "         [   1, 1437,    1, ...,    2, 1091,  935],\n",
       "         ...,\n",
       "         [   3,  323,    5, ...,   81,  539,    4],\n",
       "         [ 785,    2,  697, ...,    0,    0,    0],\n",
       "         [  65,    3,  299, ...,    0,    0,    0]], dtype=int64)>,\n",
       "  <tf.Tensor: shape=(32,), dtype=int32, numpy=\n",
       "  array([1, 1, 0, 0, 1, 1, 0, 0, 1, 1, 1, 0, 1, 1, 0, 1, 0, 0, 1, 1, 1, 0,\n",
       "         0, 1, 0, 0, 1, 0, 0, 1, 1, 0])>),\n",
       " (<tf.Tensor: shape=(32, 500), dtype=int64, numpy=\n",
       "  array([[   1,    1,    1, ...,  613,   38,    5],\n",
       "         [1181,  430,   42, ...,    7,    2,    1],\n",
       "         [  60,  429,   47, ...,    1,   48,   52],\n",
       "         ...,\n",
       "         [  52,  545,    1, ...,   28,    1,    1],\n",
       "         [   2,  196, 1289, ...,    7,  562,  113],\n",
       "         [   1, 1426,  132, ...,   16, 1426,  132]], dtype=int64)>,\n",
       "  <tf.Tensor: shape=(32,), dtype=int32, numpy=\n",
       "  array([1, 0, 1, 0, 1, 1, 0, 0, 0, 0, 1, 0, 1, 0, 0, 1, 1, 0, 0, 1, 1, 0,\n",
       "         1, 1, 1, 0, 0, 0, 0, 1, 0, 1])>),\n",
       " (<tf.Tensor: shape=(32, 500), dtype=int64, numpy=\n",
       "  array([[ 19, 663,   1, ...,  47,  62,  99],\n",
       "         [349,  22, 369, ...,   8,  95,   1],\n",
       "         [264,   3, 673, ...,   9,  21,   1],\n",
       "         ...,\n",
       "         [ 19, 524,  15, ...,   0,   0,   0],\n",
       "         [ 15,  31,   2, ...,   0,   0,   0],\n",
       "         [  1,   1,   1, ...,  87,  26, 888]], dtype=int64)>,\n",
       "  <tf.Tensor: shape=(32,), dtype=int32, numpy=\n",
       "  array([1, 0, 1, 1, 1, 1, 1, 1, 0, 1, 0, 1, 0, 0, 0, 0, 1, 1, 0, 1, 1, 0,\n",
       "         1, 1, 0, 0, 0, 0, 1, 0, 0, 0])>),\n",
       " (<tf.Tensor: shape=(32, 500), dtype=int64, numpy=\n",
       "  array([[   2,  762,  442, ...,   10,  172,    1],\n",
       "         [  13,    3,   16, ...,    0,    0,    0],\n",
       "         [   1,    1,    1, ...,    6,    2, 1253],\n",
       "         ...,\n",
       "         [   1,    8,    3, ...,    1,    4,    2],\n",
       "         [  15,    7,  101, ...,    0,    0,    0],\n",
       "         [  15,    7, 1411, ...,    0,    0,    0]], dtype=int64)>,\n",
       "  <tf.Tensor: shape=(32,), dtype=int32, numpy=\n",
       "  array([0, 0, 0, 0, 0, 1, 1, 1, 0, 1, 1, 1, 0, 1, 1, 0, 0, 0, 1, 1, 0, 0,\n",
       "         1, 0, 0, 1, 1, 1, 0, 0, 0, 0])>),\n",
       " (<tf.Tensor: shape=(32, 500), dtype=int64, numpy=\n",
       "  array([[ 124,    7,    2, ...,  372,    5,   99],\n",
       "         [   1,    3,  554, ...,    0,    0,    0],\n",
       "         [ 453,    1,    7, ...,  421,   49,    7],\n",
       "         ...,\n",
       "         [   1,  469,  767, ...,   11,    3,    1],\n",
       "         [ 245,    8,    2, ...,    0,    0,    0],\n",
       "         [ 174,    2,  112, ...,  141, 1190,  115]], dtype=int64)>,\n",
       "  <tf.Tensor: shape=(32,), dtype=int32, numpy=\n",
       "  array([1, 0, 0, 0, 1, 1, 0, 1, 0, 1, 1, 1, 1, 0, 1, 1, 0, 0, 0, 0, 0, 0,\n",
       "         1, 1, 0, 1, 1, 1, 1, 0, 1, 0])>),\n",
       " (<tf.Tensor: shape=(32, 500), dtype=int64, numpy=\n",
       "  array([[   3,    1,  679, ...,  807,    4,  362],\n",
       "         [  47,    7,    1, ...,  613,    5,    1],\n",
       "         [  19, 1010,    6, ...,    3,    1,    6],\n",
       "         ...,\n",
       "         [ 138,    1,    1, ...,    0,    0,    0],\n",
       "         [   1,    4,    1, ...,   55,    1,   35],\n",
       "         [   2,   99,   29, ...,    0,    0,    0]], dtype=int64)>,\n",
       "  <tf.Tensor: shape=(32,), dtype=int32, numpy=\n",
       "  array([0, 1, 1, 0, 0, 0, 0, 1, 0, 0, 1, 1, 0, 1, 0, 1, 1, 1, 0, 0, 0, 1,\n",
       "         1, 0, 0, 1, 0, 1, 1, 0, 0, 0])>),\n",
       " (<tf.Tensor: shape=(32, 500), dtype=int64, numpy=\n",
       "  array([[  8,   2,   1, ...,   1,   7,  26],\n",
       "         [  8,   2,   1, ...,   0,   0,   0],\n",
       "         [  3,   1, 495, ...,   0,   0,   0],\n",
       "         ...,\n",
       "         [ 12,   3, 473, ...,   1,   1,  29],\n",
       "         [ 60, 118,   7, ...,   1,  14,  78],\n",
       "         [  2, 696,   7, ...,  20, 250, 439]], dtype=int64)>,\n",
       "  <tf.Tensor: shape=(32,), dtype=int32, numpy=\n",
       "  array([0, 1, 1, 1, 1, 0, 0, 1, 0, 1, 0, 0, 0, 0, 0, 0, 0, 0, 0, 1, 0, 1,\n",
       "         0, 1, 1, 0, 1, 1, 0, 1, 1, 1])>),\n",
       " (<tf.Tensor: shape=(32, 500), dtype=int64, numpy=\n",
       "  array([[  6, 235,   1, ...,   4,  15,   1],\n",
       "         [  1,   1,   1, ...,   0,   0,   0],\n",
       "         [139, 171, 112, ...,  32,   2, 155],\n",
       "         ...,\n",
       "         [ 15,   1,   4, ...,   0,   0,   0],\n",
       "         [195,  63,   1, ...,   0,   0,   0],\n",
       "         [ 10, 132,  41, ...,   1, 347,  47]], dtype=int64)>,\n",
       "  <tf.Tensor: shape=(32,), dtype=int32, numpy=\n",
       "  array([0, 1, 0, 1, 1, 0, 0, 0, 1, 1, 1, 0, 1, 1, 1, 1, 0, 0, 1, 1, 1, 0,\n",
       "         0, 1, 1, 0, 0, 0, 0, 1, 0, 0])>),\n",
       " (<tf.Tensor: shape=(32, 500), dtype=int64, numpy=\n",
       "  array([[   1,    1, 1247, ...,    0,    0,    0],\n",
       "         [1428, 1236,    1, ...,    0,    0,    0],\n",
       "         [  80,    2,  854, ...,    0,    0,    0],\n",
       "         ...,\n",
       "         [ 264,   14,    1, ...,    0,    0,    0],\n",
       "         [   2,   79, 1461, ...,    2,  236,  221],\n",
       "         [   8,    2,  241, ...,    0,    0,    0]], dtype=int64)>,\n",
       "  <tf.Tensor: shape=(32,), dtype=int32, numpy=\n",
       "  array([1, 0, 0, 1, 1, 1, 1, 0, 1, 1, 0, 0, 0, 0, 0, 0, 0, 1, 0, 0, 0, 0,\n",
       "         0, 0, 1, 0, 0, 0, 0, 1, 0, 0])>),\n",
       " (<tf.Tensor: shape=(32, 500), dtype=int64, numpy=\n",
       "  array([[  53,    7,    3, ...,  356,   25, 1280],\n",
       "         [ 468, 1254,  271, ...,  160,  103,  154],\n",
       "         [   1,  605,    1, ...,    0,    0,    0],\n",
       "         ...,\n",
       "         [ 786,  288,    6, ...,   52,   37,   66],\n",
       "         [  24,  410,   43, ...,  106, 1515,    6],\n",
       "         [  28,    5,    2, ...,   17,  284,   24]], dtype=int64)>,\n",
       "  <tf.Tensor: shape=(32,), dtype=int32, numpy=\n",
       "  array([1, 0, 0, 0, 1, 0, 0, 0, 1, 1, 1, 1, 0, 0, 0, 0, 0, 0, 1, 1, 1, 0,\n",
       "         0, 0, 0, 0, 0, 1, 1, 1, 1, 1])>),\n",
       " (<tf.Tensor: shape=(32, 500), dtype=int64, numpy=\n",
       "  array([[1516,   22,    2, ...,    0,    0,    0],\n",
       "         [   1,    1,    1, ...,    5,   96,    4],\n",
       "         [   1,   20,   29, ...,    0,    0,    0],\n",
       "         ...,\n",
       "         [   1,   13,    3, ...,    2,  513,    7],\n",
       "         [  24,  172, 1036, ...,    6,    2,  533],\n",
       "         [   2,  696,    5, ...,    0,    0,    0]], dtype=int64)>,\n",
       "  <tf.Tensor: shape=(32,), dtype=int32, numpy=\n",
       "  array([0, 1, 0, 1, 1, 0, 1, 1, 1, 1, 0, 0, 1, 0, 1, 0, 1, 1, 0, 1, 1, 1,\n",
       "         1, 0, 1, 0, 0, 0, 1, 0, 0, 0])>),\n",
       " (<tf.Tensor: shape=(32, 500), dtype=int64, numpy=\n",
       "  array([[  53,   33,   69, ...,    1,    1,  419],\n",
       "         [ 400,  102,   21, ...,    2,   86,   37],\n",
       "         [ 141,   68,    8, ...,  260,   36,   65],\n",
       "         ...,\n",
       "         [  12,    2,    1, ...,    0,    0,    0],\n",
       "         [  39,  116,    1, ...,  750,    8,   15],\n",
       "         [  18,   34, 1041, ...,    1,   22,    3]], dtype=int64)>,\n",
       "  <tf.Tensor: shape=(32,), dtype=int32, numpy=\n",
       "  array([0, 0, 1, 0, 0, 0, 0, 1, 1, 0, 1, 0, 0, 0, 0, 1, 1, 1, 1, 1, 0, 0,\n",
       "         1, 1, 1, 0, 0, 0, 1, 1, 1, 1])>),\n",
       " (<tf.Tensor: shape=(32, 500), dtype=int64, numpy=\n",
       "  array([[  1,   1, 636, ...,   1,   1,   7],\n",
       "         [552,  95,   1, ..., 957, 139, 130],\n",
       "         [ 19,  41, 102, ...,  34,  12,  14],\n",
       "         ...,\n",
       "         [ 52, 786, 197, ...,  42,   1, 201],\n",
       "         [  1,   8,   1, ...,  17, 186,  26],\n",
       "         [  1,   7,   3, ...,   0,   0,   0]], dtype=int64)>,\n",
       "  <tf.Tensor: shape=(32,), dtype=int32, numpy=\n",
       "  array([0, 1, 1, 0, 1, 1, 0, 1, 1, 1, 0, 0, 0, 1, 1, 0, 1, 0, 1, 0, 0, 1,\n",
       "         0, 0, 0, 0, 1, 1, 1, 1, 0, 0])>),\n",
       " (<tf.Tensor: shape=(32, 500), dtype=int64, numpy=\n",
       "  array([[ 44,  19,   1, ..., 110,  33,  69],\n",
       "         [ 15,   7,   3, ..., 942, 137,   9],\n",
       "         [785,   2, 697, ...,   0,   0,   0],\n",
       "         ...,\n",
       "         [ 25,   1,   1, ...,   1,  58,   1],\n",
       "         [ 19, 283,   1, ..., 873,   5,   1],\n",
       "         [  1,   7,   3, ...,   0,   0,   0]], dtype=int64)>,\n",
       "  <tf.Tensor: shape=(32,), dtype=int32, numpy=\n",
       "  array([0, 1, 1, 0, 0, 0, 0, 0, 1, 1, 1, 0, 0, 0, 0, 1, 0, 0, 0, 0, 1, 0,\n",
       "         1, 1, 1, 1, 0, 0, 1, 1, 0, 1])>),\n",
       " (<tf.Tensor: shape=(32, 500), dtype=int64, numpy=\n",
       "  array([[ 44,  19,  31, ...,   0,   0,   0],\n",
       "         [  1,   1, 736, ...,   0,   0,   0],\n",
       "         [ 15,   7,  25, ...,   2,  16,  30],\n",
       "         ...,\n",
       "         [ 19, 167,  64, ...,   0,   0,   0],\n",
       "         [  8,   1,   2, ...,   0,   0,   0],\n",
       "         [ 98,   1,   7, ...,  13,   2, 496]], dtype=int64)>,\n",
       "  <tf.Tensor: shape=(32,), dtype=int32, numpy=\n",
       "  array([1, 1, 0, 0, 0, 1, 1, 1, 1, 0, 1, 0, 1, 0, 0, 1, 1, 0, 0, 0, 0, 0,\n",
       "         0, 1, 1, 1, 0, 1, 1, 0, 0, 1])>),\n",
       " (<tf.Tensor: shape=(32, 500), dtype=int64, numpy=\n",
       "  array([[   1,    1,  669, ...,    1,    1,    2],\n",
       "         [ 121,  435,   15, ...,    0,    0,    0],\n",
       "         [ 435,  109,   79, ...,   36,  827,   15],\n",
       "         ...,\n",
       "         [   8,   50,    1, ...,   91, 1157,  425],\n",
       "         [  44,    1,  691, ...,    1,  223,   59],\n",
       "         [ 232,  678,   15, ...,  620,  226,  222]], dtype=int64)>,\n",
       "  <tf.Tensor: shape=(32,), dtype=int32, numpy=\n",
       "  array([0, 0, 1, 1, 1, 0, 0, 1, 1, 1, 0, 0, 0, 1, 1, 0, 0, 0, 1, 1, 1, 0,\n",
       "         0, 0, 1, 0, 0, 0, 1, 1, 1, 0])>),\n",
       " (<tf.Tensor: shape=(32, 500), dtype=int64, numpy=\n",
       "  array([[   9,    7,    1, ...,    0,    0,    0],\n",
       "         [   2,  697,    1, ...,  648,  543,    6],\n",
       "         [  19,  119,   10, ...,    0,    0,    0],\n",
       "         ...,\n",
       "         [  15,    7,   28, ...,  189, 1017,   67],\n",
       "         [   2,  816,    7, ...,    0,    0,    0],\n",
       "         [   3,   27,   40, ...,    7,    3, 1027]], dtype=int64)>,\n",
       "  <tf.Tensor: shape=(32,), dtype=int32, numpy=\n",
       "  array([0, 0, 1, 1, 0, 1, 0, 0, 0, 1, 1, 0, 1, 0, 0, 1, 0, 0, 1, 0, 0, 0,\n",
       "         0, 0, 0, 0, 0, 1, 1, 1, 1, 0])>),\n",
       " (<tf.Tensor: shape=(32, 500), dtype=int64, numpy=\n",
       "  array([[   1, 1478,    1, ...,   61,    1,  180],\n",
       "         [   8,    2,    1, ...,    0,    0,    0],\n",
       "         [  19,  167,    9, ...,   64,   33,   88],\n",
       "         ...,\n",
       "         [  19,  183,   62, ...,   61,    4,    2],\n",
       "         [ 596,   50,  181, ...,    1,    1,  590],\n",
       "         [ 980,    1,    1, ...,    6,  254,   54]], dtype=int64)>,\n",
       "  <tf.Tensor: shape=(32,), dtype=int32, numpy=\n",
       "  array([1, 0, 0, 1, 1, 0, 1, 1, 0, 0, 0, 1, 1, 0, 1, 0, 1, 1, 0, 1, 1, 1,\n",
       "         0, 0, 0, 1, 1, 1, 1, 1, 1, 1])>),\n",
       " (<tf.Tensor: shape=(32, 500), dtype=int64, numpy=\n",
       "  array([[  44, 1050,    2, ..., 1574,    1,   12],\n",
       "         [  12,    2,    1, ...,   78,    1,    4],\n",
       "         [ 349,   22,  182, ...,    1,    1,    3],\n",
       "         ...,\n",
       "         [  25,  276,    1, ...,    1,    1,   34],\n",
       "         [   1,    2,  138, ...,  476,    1,   14],\n",
       "         [   1,  349,   22, ...,   20,    2,  772]], dtype=int64)>,\n",
       "  <tf.Tensor: shape=(32,), dtype=int32, numpy=\n",
       "  array([1, 1, 1, 0, 1, 0, 0, 1, 1, 0, 1, 0, 1, 1, 1, 0, 1, 0, 1, 1, 0, 1,\n",
       "         1, 0, 1, 1, 1, 1, 1, 0, 1, 0])>),\n",
       " (<tf.Tensor: shape=(32, 500), dtype=int64, numpy=\n",
       "  array([[  19,   31,  943, ..., 1589,    1,    6],\n",
       "         [1079, 1079,  356, ...,    0,    0,    0],\n",
       "         [   2,  733, 1494, ...,    0,    0,    0],\n",
       "         ...,\n",
       "         [ 139,    3,   61, ...,    0,    0,    0],\n",
       "         [   2,    1,   20, ...,    0,    0,    0],\n",
       "         [  10,   31,   26, ...,   51,    3,   32]], dtype=int64)>,\n",
       "  <tf.Tensor: shape=(32,), dtype=int32, numpy=\n",
       "  array([0, 0, 1, 0, 1, 1, 1, 1, 1, 0, 0, 1, 0, 1, 0, 0, 1, 0, 0, 0, 1, 1,\n",
       "         1, 0, 0, 1, 0, 1, 0, 0, 0, 0])>),\n",
       " (<tf.Tensor: shape=(32, 500), dtype=int64, numpy=\n",
       "  array([[  2,   1,   1, ...,   1,   1,  17],\n",
       "         [  2,   1, 498, ...,   8,  62,   1],\n",
       "         [916, 790,   1, ...,   5,   2,   1],\n",
       "         ...,\n",
       "         [  1,  11,   3, ...,   1,   4,   1],\n",
       "         [  8,   2, 822, ...,   2,   1,  11],\n",
       "         [ 25,   1, 693, ..., 912,   6, 382]], dtype=int64)>,\n",
       "  <tf.Tensor: shape=(32,), dtype=int32, numpy=\n",
       "  array([1, 0, 0, 1, 0, 1, 0, 1, 0, 1, 0, 1, 0, 0, 0, 1, 1, 1, 0, 0, 1, 0,\n",
       "         1, 1, 0, 0, 1, 0, 0, 1, 1, 1])>),\n",
       " (<tf.Tensor: shape=(32, 500), dtype=int64, numpy=\n",
       "  array([[  80,    2,    1, ...,  508,    1,   29],\n",
       "         [  15,  216,  425, ...,    0,    0,    0],\n",
       "         [  91,   19,  670, ...,    0,    0,    0],\n",
       "         ...,\n",
       "         [   1,  801,    1, ...,   18,   34,   69],\n",
       "         [   1,  226,  388, ...,    0,    0,    0],\n",
       "         [ 135,    8, 1204, ...,  271,    2,  586]], dtype=int64)>,\n",
       "  <tf.Tensor: shape=(32,), dtype=int32, numpy=\n",
       "  array([1, 1, 0, 1, 0, 1, 1, 0, 1, 1, 1, 1, 1, 1, 1, 0, 1, 1, 0, 1, 0, 1,\n",
       "         1, 1, 0, 1, 1, 0, 0, 1, 0, 1])>),\n",
       " (<tf.Tensor: shape=(32, 500), dtype=int64, numpy=\n",
       "  array([[   2,  861,    7, ...,    2,  115,   21],\n",
       "         [1074,  454, 1029, ...,    6,   35,   36],\n",
       "         [  47,   77,   36, ...,    0,    0,    0],\n",
       "         ...,\n",
       "         [   1,    1,    7, ...,    0,    0,    0],\n",
       "         [  20,  408,    2, ...,    5,    1,    1],\n",
       "         [  28,    5,  111, ...,    2,    1,   22]], dtype=int64)>,\n",
       "  <tf.Tensor: shape=(32,), dtype=int32, numpy=\n",
       "  array([0, 1, 1, 0, 0, 0, 0, 0, 1, 1, 1, 1, 1, 0, 0, 0, 0, 1, 0, 1, 1, 1,\n",
       "         0, 1, 1, 0, 1, 0, 1, 1, 1, 0])>),\n",
       " (<tf.Tensor: shape=(32, 500), dtype=int64, numpy=\n",
       "  array([[ 11,   3,   1, ..., 570,   2,   1],\n",
       "         [ 28,   5,   2, ...,  80,  38,   2],\n",
       "         [859, 987, 386, ...,   0,   0,   0],\n",
       "         ...,\n",
       "         [  8,   1,   1, ..., 272,   2,  86],\n",
       "         [ 50,   1, 253, ...,   0,   0,   0],\n",
       "         [  1,   1,  79, ...,   1,   1,   9]], dtype=int64)>,\n",
       "  <tf.Tensor: shape=(32,), dtype=int32, numpy=\n",
       "  array([0, 1, 1, 0, 1, 1, 1, 1, 1, 1, 1, 0, 0, 1, 1, 1, 1, 1, 1, 0, 1, 1,\n",
       "         1, 1, 0, 1, 1, 1, 1, 1, 0, 1])>),\n",
       " (<tf.Tensor: shape=(32, 500), dtype=int64, numpy=\n",
       "  array([[  2,   1, 462, ...,   5,   2,   1],\n",
       "         [916,   1, 309, ...,   0,   0,   0],\n",
       "         [  1,   1, 361, ...,  49, 184, 392],\n",
       "         ...,\n",
       "         [  1, 601,  34, ...,   0,   0,   0],\n",
       "         [ 25,   1, 198, ...,  18,  87,   1],\n",
       "         [ 61,  66,   1, ...,   0,   0,   0]], dtype=int64)>,\n",
       "  <tf.Tensor: shape=(32,), dtype=int32, numpy=\n",
       "  array([1, 1, 0, 0, 0, 1, 1, 1, 1, 0, 1, 1, 1, 1, 1, 0, 1, 1, 0, 0, 1, 1,\n",
       "         1, 1, 1, 0, 0, 1, 0, 0, 0, 1])>),\n",
       " (<tf.Tensor: shape=(32, 500), dtype=int64, numpy=\n",
       "  array([[596,  50, 181, ...,   1, 493, 387],\n",
       "         [  1,   8,  20, ...,   0,   0,   0],\n",
       "         [ 19, 956,  43, ...,   0,   0,   0],\n",
       "         ...,\n",
       "         [  2,   1, 744, ...,   0,   0,   0],\n",
       "         [101, 350, 126, ...,   7,  39,   1],\n",
       "         [268,   8, 266, ...,   1, 159,   2]], dtype=int64)>,\n",
       "  <tf.Tensor: shape=(32,), dtype=int32, numpy=\n",
       "  array([0, 0, 0, 0, 0, 1, 1, 0, 0, 1, 0, 0, 1, 0, 0, 1, 0, 1, 1, 1, 1, 0,\n",
       "         0, 0, 1, 1, 0, 1, 0, 1, 0, 1])>),\n",
       " (<tf.Tensor: shape=(32, 500), dtype=int64, numpy=\n",
       "  array([[1181,    7,    3, ...,    0,    0,    0],\n",
       "         [  19,   33,    3, ...,    0,    0,    0],\n",
       "         [   1,    7,    3, ...,    0,    0,    0],\n",
       "         ...,\n",
       "         [   3,  323,    5, ...,    0,    0,    0],\n",
       "         [   2,    1,   13, ...,   79,   36,   77],\n",
       "         [   2,    1,    1, ...,   20,    1,    1]], dtype=int64)>,\n",
       "  <tf.Tensor: shape=(32,), dtype=int32, numpy=\n",
       "  array([0, 0, 1, 0, 0, 1, 1, 1, 1, 1, 1, 1, 1, 1, 0, 1, 0, 1, 0, 1, 1, 0,\n",
       "         0, 0, 1, 0, 0, 1, 1, 0, 0, 1])>),\n",
       " (<tf.Tensor: shape=(32, 500), dtype=int64, numpy=\n",
       "  array([[607,   1,  40, ...,  83,  10,  32],\n",
       "         [580,   1,  36, ...,   4,  28,   1],\n",
       "         [  1, 606,   1, ...,   0,   0,   0],\n",
       "         ...,\n",
       "         [561,  44,  28, ...,   0,   0,   0],\n",
       "         [703,   1,   1, ...,   0,   0,   0],\n",
       "         [182,   1,   1, ...,   1, 669,   2]], dtype=int64)>,\n",
       "  <tf.Tensor: shape=(32,), dtype=int32, numpy=\n",
       "  array([1, 0, 0, 1, 1, 0, 1, 1, 0, 1, 0, 1, 1, 0, 0, 1, 0, 0, 1, 0, 1, 0,\n",
       "         0, 1, 1, 1, 0, 1, 1, 1, 1, 0])>),\n",
       " (<tf.Tensor: shape=(32, 500), dtype=int64, numpy=\n",
       "  array([[  19,   88,   69, ...,    0,    0,    0],\n",
       "         [  15,    7,    2, ...,    6,    3,   89],\n",
       "         [ 596,   50,  181, ...,  260,    5,    1],\n",
       "         ...,\n",
       "         [   1,  319,  109, ...,    1,  177,  173],\n",
       "         [ 717,    1,  179, ...,   11,   25,  276],\n",
       "         [1079,  435,  109, ...,    0,    0,    0]], dtype=int64)>,\n",
       "  <tf.Tensor: shape=(32,), dtype=int32, numpy=\n",
       "  array([0, 0, 1, 1, 0, 0, 1, 0, 1, 0, 0, 1, 1, 1, 1, 1, 0, 1, 1, 0, 1, 1,\n",
       "         0, 0, 1, 1, 0, 1, 1, 1, 0, 1])>),\n",
       " (<tf.Tensor: shape=(32, 500), dtype=int64, numpy=\n",
       "  array([[329,  10, 179, ..., 179,  13,   2],\n",
       "         [859, 987,   7, ..., 699,  29,   1],\n",
       "         [ 12,  38,   9, ...,  17,   2, 376],\n",
       "         ...,\n",
       "         [116,  99,  66, ...,   5,   3, 402],\n",
       "         [ 24,   3, 547, ...,   0,   0,   0],\n",
       "         [ 98, 245,   8, ...,   0,   0,   0]], dtype=int64)>,\n",
       "  <tf.Tensor: shape=(32,), dtype=int32, numpy=\n",
       "  array([1, 1, 0, 1, 1, 1, 1, 0, 0, 1, 1, 0, 1, 0, 0, 1, 0, 1, 1, 1, 0, 1,\n",
       "         0, 1, 0, 0, 0, 0, 1, 1, 0, 0])>),\n",
       " (<tf.Tensor: shape=(32, 500), dtype=int64, numpy=\n",
       "  array([[ 150,   10,    7, ...,    0,    0,    0],\n",
       "         [   1,    2,    1, ...,    8,   14, 1156],\n",
       "         [  64, 1402,    2, ...,  417,    7,    1],\n",
       "         ...,\n",
       "         [ 276,    1,  331, ...,    0,    0,    0],\n",
       "         [ 135,    8,    1, ...,    1,    1,   30],\n",
       "         [   1,    1,  142, ...,    1,  268,    8]], dtype=int64)>,\n",
       "  <tf.Tensor: shape=(32,), dtype=int32, numpy=\n",
       "  array([1, 1, 1, 0, 1, 1, 1, 0, 1, 1, 0, 0, 1, 0, 1, 0, 1, 0, 1, 0, 0, 0,\n",
       "         0, 1, 0, 1, 1, 0, 1, 0, 0, 1])>),\n",
       " (<tf.Tensor: shape=(32, 500), dtype=int64, numpy=\n",
       "  array([[   2,  762,  442, ...,  206,    6,    2],\n",
       "         [   1,    1, 1527, ...,    1,    3,  295],\n",
       "         [  15,   27,    7, ...,    1,  330,   31],\n",
       "         ...,\n",
       "         [ 213,  698, 1365, ...,    1,   10,    7],\n",
       "         [ 376,   20,    1, ...,  833,    8,    3],\n",
       "         [  51,    8,   63, ...,   23,  438,   29]], dtype=int64)>,\n",
       "  <tf.Tensor: shape=(32,), dtype=int32, numpy=\n",
       "  array([0, 1, 0, 0, 0, 1, 0, 0, 1, 1, 1, 1, 0, 0, 1, 0, 1, 0, 0, 1, 0, 0,\n",
       "         0, 0, 1, 0, 1, 1, 1, 1, 0, 1])>),\n",
       " (<tf.Tensor: shape=(32, 500), dtype=int64, numpy=\n",
       "  array([[  53,    7,  171, ...,  612,  261,    6],\n",
       "         [ 707,   44, 1411, ...,    0,    0,    0],\n",
       "         [  47,   19,  174, ...,    0,    0,    0],\n",
       "         ...,\n",
       "         [   2,  873,  180, ...,    0,    0,    0],\n",
       "         [  19,  167,  356, ...,   11,  453,    1],\n",
       "         [  19,  738,    6, ...,  563,   11,   25]], dtype=int64)>,\n",
       "  <tf.Tensor: shape=(32,), dtype=int32, numpy=\n",
       "  array([1, 0, 1, 1, 0, 1, 0, 1, 1, 1, 0, 1, 0, 0, 1, 1, 0, 0, 0, 1, 0, 0,\n",
       "         0, 0, 0, 1, 0, 0, 1, 0, 0, 0])>),\n",
       " (<tf.Tensor: shape=(32, 500), dtype=int64, numpy=\n",
       "  array([[ 148,  226,    8, ...,    1,    7,    1],\n",
       "         [  11,    1,    1, ...,   17,  121,   73],\n",
       "         [  52,   36,   33, ...,    0,    0,    0],\n",
       "         ...,\n",
       "         [   1,    1,  308, ...,    0,    0,    0],\n",
       "         [ 294,    5,    1, ...,    4,  297,  843],\n",
       "         [1071,   32,    2, ...,    1,    8,   15]], dtype=int64)>,\n",
       "  <tf.Tensor: shape=(32,), dtype=int32, numpy=\n",
       "  array([1, 1, 0, 0, 0, 0, 0, 1, 1, 1, 0, 0, 0, 1, 1, 0, 1, 0, 0, 0, 1, 0,\n",
       "         1, 1, 1, 1, 1, 1, 1, 0, 1, 1])>)]"
      ]
     },
     "execution_count": 322,
     "metadata": {},
     "output_type": "execute_result"
    }
   ],
   "source": [
    "list(train_ds)"
   ]
  },
  {
   "cell_type": "markdown",
   "id": "f131238c",
   "metadata": {},
   "source": [
    "### Build  CNN 1D convnet model \n",
    "* starting with embedded layer"
   ]
  },
  {
   "cell_type": "code",
   "execution_count": 339,
   "id": "6796c9c8",
   "metadata": {},
   "outputs": [
    {
     "name": "stdout",
     "output_type": "stream",
     "text": [
      "Model: \"model_10\"\n",
      "_________________________________________________________________\n",
      " Layer (type)                Output Shape              Param #   \n",
      "=================================================================\n",
      " input_11 (InputLayer)       [(None, None)]            0         \n",
      "                                                                 \n",
      " embedding_13 (Embedding)    (None, None, 128)         204800    \n",
      "                                                                 \n",
      " dropout_16 (Dropout)        (None, None, 128)         0         \n",
      "                                                                 \n",
      " conv1d_16 (Conv1D)          (None, None, 128)         114816    \n",
      "                                                                 \n",
      " conv1d_17 (Conv1D)          (None, None, 128)         114816    \n",
      "                                                                 \n",
      " global_max_pooling1d_8 (Glo  (None, 128)              0         \n",
      " balMaxPooling1D)                                                \n",
      "                                                                 \n",
      " dense_16 (Dense)            (None, 128)               16512     \n",
      "                                                                 \n",
      " dropout_17 (Dropout)        (None, 128)               0         \n",
      "                                                                 \n",
      " predictions (Dense)         (None, 1)                 129       \n",
      "                                                                 \n",
      "=================================================================\n",
      "Total params: 451,073\n",
      "Trainable params: 451,073\n",
      "Non-trainable params: 0\n",
      "_________________________________________________________________\n"
     ]
    }
   ],
   "source": [
    "from tensorflow.keras import layers\n",
    "\n",
    "# A integer input for vocab indices.\n",
    "inputs = tf.keras.Input(shape=(None,), dtype=\"int64\")\n",
    "\n",
    "# Next, we add a layer to map those vocab indices into a space of dimensionality\n",
    "# 'embedding_dim'.\n",
    "x = layers.Embedding(max_features, embedding_dim)(inputs)\n",
    "x = layers.Dropout(0.5)(x)\n",
    "\n",
    "# Conv1D + global max pooling\n",
    "x = layers.Conv1D(128, 7, padding=\"valid\", activation=\"relu\", strides=3)(x)\n",
    "x = layers.Conv1D(128, 7, padding=\"valid\", activation=\"relu\", strides=3)(x)\n",
    "x = layers.GlobalMaxPooling1D()(x)\n",
    "\n",
    "# We add a vanilla hidden layer:\n",
    "x = layers.Dense(128, activation=\"relu\")(x)\n",
    "x = layers.Dropout(0.5)(x)\n",
    "\n",
    "# We project onto a single unit output layer, and squash it with a sigmoid:\n",
    "predictions = layers.Dense(1, activation=\"sigmoid\", name=\"predictions\")(x)\n",
    "\n",
    "model = tf.keras.Model(inputs, predictions)\n",
    "\n",
    "# Compile the model with binary crossentropy loss and an adam optimizer.\n",
    "model.compile(loss=\"binary_crossentropy\", optimizer=\"adam\", metrics=[\"accuracy\"])\n",
    "model.summary()"
   ]
  },
  {
   "cell_type": "markdown",
   "id": "53bea9f3",
   "metadata": {},
   "source": [
    "* relu activation function works better between the layers. it produces 0 when any polarity is passed unto it.\n",
    "* dropout - to prevent overfitting\n",
    "* started with embedding layer - This layer uses an integer input for vocab indices with another layer to map those vocab indices into a space of different dimensions."
   ]
  },
  {
   "cell_type": "markdown",
   "id": "ad772c92",
   "metadata": {},
   "source": [
    "### train the model"
   ]
  },
  {
   "cell_type": "code",
   "execution_count": 342,
   "id": "40411db5",
   "metadata": {},
   "outputs": [
    {
     "name": "stdout",
     "output_type": "stream",
     "text": [
      "Epoch 1/11\n",
      "40/40 [==============================] - 2s 54ms/step - loss: 0.6892 - accuracy: 0.5555 - val_loss: 0.7004 - val_accuracy: 0.4719\n",
      "Epoch 2/11\n",
      "40/40 [==============================] - 2s 55ms/step - loss: 0.6754 - accuracy: 0.5750 - val_loss: 0.6815 - val_accuracy: 0.6313\n",
      "Epoch 3/11\n",
      "40/40 [==============================] - 2s 55ms/step - loss: 0.5908 - accuracy: 0.7312 - val_loss: 0.5478 - val_accuracy: 0.7469\n",
      "Epoch 4/11\n",
      "40/40 [==============================] - 2s 52ms/step - loss: 0.3380 - accuracy: 0.8547 - val_loss: 0.6647 - val_accuracy: 0.7312\n",
      "Epoch 5/11\n",
      "40/40 [==============================] - 2s 52ms/step - loss: 0.2010 - accuracy: 0.9211 - val_loss: 0.6499 - val_accuracy: 0.7531\n",
      "Epoch 6/11\n",
      "40/40 [==============================] - 2s 52ms/step - loss: 0.2178 - accuracy: 0.9125 - val_loss: 0.6371 - val_accuracy: 0.7250\n",
      "Epoch 7/11\n",
      "40/40 [==============================] - 2s 56ms/step - loss: 0.0781 - accuracy: 0.9688 - val_loss: 1.0853 - val_accuracy: 0.6844\n",
      "Epoch 8/11\n",
      "40/40 [==============================] - 3s 70ms/step - loss: 0.0634 - accuracy: 0.9750 - val_loss: 1.1311 - val_accuracy: 0.7125\n",
      "Epoch 9/11\n",
      "40/40 [==============================] - 3s 71ms/step - loss: 0.0545 - accuracy: 0.9797 - val_loss: 0.8572 - val_accuracy: 0.7469\n",
      "Epoch 10/11\n",
      "40/40 [==============================] - 3s 72ms/step - loss: 0.0214 - accuracy: 0.9930 - val_loss: 1.0947 - val_accuracy: 0.7250\n",
      "Epoch 11/11\n",
      "40/40 [==============================] - 3s 69ms/step - loss: 0.0127 - accuracy: 0.9961 - val_loss: 0.9685 - val_accuracy: 0.7594\n"
     ]
    },
    {
     "data": {
      "text/plain": [
       "<keras.callbacks.History at 0x1ca31c65be0>"
      ]
     },
     "execution_count": 342,
     "metadata": {},
     "output_type": "execute_result"
    }
   ],
   "source": [
    "epochs = 11\n",
    "\n",
    "# Fit the model using the train and test datasets.\n",
    "model.fit(train_ds, validation_data=val_ds, epochs=epochs)"
   ]
  },
  {
   "cell_type": "markdown",
   "id": "16b7987c",
   "metadata": {},
   "source": [
    "## evaluate the model"
   ]
  },
  {
   "cell_type": "code",
   "execution_count": 346,
   "id": "afe31713",
   "metadata": {},
   "outputs": [
    {
     "name": "stdout",
     "output_type": "stream",
     "text": [
      "accuracy: 74.50%\n",
      "[0.9969980120658875, 0.7450000047683716]\n"
     ]
    }
   ],
   "source": [
    "scores = model.evaluate(test_ds, verbose =0)\n",
    "print('accuracy: %.2f%%' %(scores[1]*100))\n",
    "print(scores)"
   ]
  },
  {
   "cell_type": "markdown",
   "id": "91472c9a",
   "metadata": {},
   "source": [
    "* high loss meaning huge error on a large dataset was made.\n",
    "* complex pre-processing will be needed"
   ]
  },
  {
   "cell_type": "markdown",
   "id": "2323cd1c",
   "metadata": {},
   "source": [
    "https://keras.io/examples/nlp/text_classification_from_scratch/  # my url for the code base"
   ]
  },
  {
   "cell_type": "markdown",
   "id": "2da9401f",
   "metadata": {},
   "source": [
    "### Make an end-to-end model\n",
    "* If you want to obtain a model capable of processing raw strings, you can simply create a new model (using the weights trained above)"
   ]
  },
  {
   "cell_type": "code",
   "execution_count": 344,
   "id": "b79a46dc",
   "metadata": {},
   "outputs": [
    {
     "name": "stdout",
     "output_type": "stream",
     "text": [
      "13/13 [==============================] - 0s 17ms/step - loss: 0.9970 - accuracy: 0.7450\n"
     ]
    },
    {
     "data": {
      "text/plain": [
       "[0.9969980120658875, 0.7450000047683716]"
      ]
     },
     "execution_count": 344,
     "metadata": {},
     "output_type": "execute_result"
    }
   ],
   "source": [
    "# A string input\n",
    "inputs = tf.keras.Input(shape=(1,), dtype=\"string\")\n",
    "# Turn strings into vocab indices\n",
    "indices = vectorize_layer(inputs)\n",
    "# Turn vocab indices into predictions\n",
    "outputs = model(indices)\n",
    "\n",
    "# Our end to end model\n",
    "end_to_end_model = tf.keras.Model(inputs, outputs)\n",
    "end_to_end_model.compile(\n",
    "    loss=\"binary_crossentropy\", optimizer=\"adam\", metrics=[\"accuracy\"]\n",
    ")\n",
    "\n",
    "# Test it with `raw_test_ds`, which yields raw strings\n",
    "end_to_end_model.evaluate(raw_test_ds)"
   ]
  },
  {
   "cell_type": "markdown",
   "id": "0cd55bce",
   "metadata": {},
   "source": [
    "* end-to-end also show very close result"
   ]
  },
  {
   "cell_type": "markdown",
   "id": "4d6ccc14",
   "metadata": {},
   "source": [
    "##  Using stacked LSTM layers(2 layers)"
   ]
  },
  {
   "cell_type": "code",
   "execution_count": 347,
   "id": "bdc6b74b",
   "metadata": {},
   "outputs": [
    {
     "name": "stdout",
     "output_type": "stream",
     "text": [
      "Model: \"model_12\"\n",
      "_________________________________________________________________\n",
      " Layer (type)                Output Shape              Param #   \n",
      "=================================================================\n",
      " input_13 (InputLayer)       [(None, None)]            0         \n",
      "                                                                 \n",
      " embedding_14 (Embedding)    (None, None, 128)         204800    \n",
      "                                                                 \n",
      " bidirectional_2 (Bidirectio  (None, None, 128)        98816     \n",
      " nal)                                                            \n",
      "                                                                 \n",
      " bidirectional_3 (Bidirectio  (None, 128)              98816     \n",
      " nal)                                                            \n",
      "                                                                 \n",
      " dense_17 (Dense)            (None, 1)                 129       \n",
      "                                                                 \n",
      "=================================================================\n",
      "Total params: 402,561\n",
      "Trainable params: 402,561\n",
      "Non-trainable params: 0\n",
      "_________________________________________________________________\n"
     ]
    }
   ],
   "source": [
    "# Input for variable-length sequences of integers\n",
    "inputs = keras.Input(shape=(None,), dtype=\"int32\") \n",
    "\n",
    "# Embed each integer in a 128-dimensional vector\n",
    "x = layers.Embedding(max_features, 128)(inputs)\n",
    "\n",
    "# Add 2 bidirectional LSTMs\n",
    "x = layers.Bidirectional(layers.LSTM(64, return_sequences=True))(x)\n",
    "x = layers.Bidirectional(layers.LSTM(64))(x)\n",
    "\n",
    "# Add a classifier\n",
    "outputs = layers.Dense(1, activation=\"relu\")(x)\n",
    "model = keras.Model(inputs, outputs)\n",
    "model.summary()"
   ]
  },
  {
   "cell_type": "code",
   "execution_count": 348,
   "id": "d9254d4a",
   "metadata": {},
   "outputs": [],
   "source": [
    "model.compile(loss=\"binary_crossentropy\", optimizer=\"adam\", metrics=[\"accuracy\",tf.keras.metrics.Precision(),tf.keras.metrics.Recall()])"
   ]
  },
  {
   "cell_type": "code",
   "execution_count": 349,
   "id": "1c32844a",
   "metadata": {},
   "outputs": [
    {
     "name": "stdout",
     "output_type": "stream",
     "text": [
      "Epoch 1/11\n",
      "40/40 [==============================] - 34s 713ms/step - loss: 0.8348 - accuracy: 0.4938 - precision_1: 0.5042 - recall_1: 0.3696 - val_loss: 0.7428 - val_accuracy: 0.4531 - val_precision_1: 0.4502 - val_recall_1: 0.8243\n",
      "Epoch 2/11\n",
      "40/40 [==============================] - 30s 760ms/step - loss: 0.6488 - accuracy: 0.6250 - precision_1: 0.6331 - recall_1: 0.6273 - val_loss: 0.7081 - val_accuracy: 0.5156 - val_precision_1: 0.4821 - val_recall_1: 0.6351\n",
      "Epoch 3/11\n",
      "40/40 [==============================] - 30s 761ms/step - loss: 0.5846 - accuracy: 0.7383 - precision_1: 0.7577 - recall_1: 0.7147 - val_loss: 0.7085 - val_accuracy: 0.5406 - val_precision_1: 0.5102 - val_recall_1: 0.1689\n",
      "Epoch 4/11\n",
      "40/40 [==============================] - 30s 761ms/step - loss: 0.5306 - accuracy: 0.7859 - precision_1: 0.8304 - recall_1: 0.7285 - val_loss: 3.1180 - val_accuracy: 0.5375 - val_precision_1: 0.0000e+00 - val_recall_1: 0.0000e+00\n",
      "Epoch 5/11\n",
      "40/40 [==============================] - 32s 811ms/step - loss: 0.8398 - accuracy: 0.6211 - precision_1: 0.7275 - recall_1: 0.4095 - val_loss: 0.8973 - val_accuracy: 0.5156 - val_precision_1: 0.4819 - val_recall_1: 0.6284\n",
      "Epoch 6/11\n",
      "40/40 [==============================] - 34s 865ms/step - loss: 0.4703 - accuracy: 0.8328 - precision_1: 0.8390 - recall_1: 0.8313 - val_loss: 2.1591 - val_accuracy: 0.5156 - val_precision_1: 0.4844 - val_recall_1: 0.7365\n",
      "Epoch 7/11\n",
      "40/40 [==============================] - 31s 788ms/step - loss: 0.3474 - accuracy: 0.8805 - precision_1: 0.8844 - recall_1: 0.8804 - val_loss: 2.5903 - val_accuracy: 0.5281 - val_precision_1: 0.4920 - val_recall_1: 0.6216\n",
      "Epoch 8/11\n",
      "40/40 [==============================] - 31s 785ms/step - loss: 0.2318 - accuracy: 0.9211 - precision_1: 0.9339 - recall_1: 0.9095 - val_loss: 3.0224 - val_accuracy: 0.5312 - val_precision_1: 0.4943 - val_recall_1: 0.5878\n",
      "Epoch 9/11\n",
      "40/40 [==============================] - 31s 778ms/step - loss: 0.1488 - accuracy: 0.9602 - precision_1: 0.9777 - recall_1: 0.9433 - val_loss: 3.5347 - val_accuracy: 0.5156 - val_precision_1: 0.4809 - val_recall_1: 0.5946\n",
      "Epoch 10/11\n",
      "40/40 [==============================] - 34s 854ms/step - loss: 0.0879 - accuracy: 0.9883 - precision_1: 0.9892 - recall_1: 0.9877 - val_loss: 4.3825 - val_accuracy: 0.5344 - val_precision_1: 0.4974 - val_recall_1: 0.6351\n",
      "Epoch 11/11\n",
      "40/40 [==============================] - 31s 780ms/step - loss: 0.0672 - accuracy: 0.9930 - precision_1: 0.9923 - recall_1: 0.9939 - val_loss: 5.1115 - val_accuracy: 0.5188 - val_precision_1: 0.4866 - val_recall_1: 0.7365\n"
     ]
    },
    {
     "data": {
      "text/plain": [
       "<keras.callbacks.History at 0x1ca31d353d0>"
      ]
     },
     "execution_count": 349,
     "metadata": {},
     "output_type": "execute_result"
    }
   ],
   "source": [
    "epochs = 11\n",
    "# Fit the model using the train and test datasets.\n",
    "model.fit(train_ds,epochs=epochs,validation_data=val_ds)"
   ]
  },
  {
   "cell_type": "code",
   "execution_count": 350,
   "id": "636d1cf1",
   "metadata": {},
   "outputs": [
    {
     "name": "stdout",
     "output_type": "stream",
     "text": [
      "13/13 [==============================] - 2s 138ms/step - loss: 3.7099 - accuracy: 0.6200 - precision_1: 0.5923 - recall_1: 0.7700\n",
      "Test Accuracy: 0.6200000047683716\n",
      "Test Precision 0.5923076868057251\n",
      "recall 0.7699999809265137\n"
     ]
    }
   ],
   "source": [
    "test_loss, test_acc, precision, recall_1 = model.evaluate(test_ds)\n",
    "print('Test Accuracy:', test_acc)\n",
    "print('Test Precision', precision)\n",
    "print('recall', recall_1)"
   ]
  },
  {
   "cell_type": "markdown",
   "id": "a904bab3",
   "metadata": {},
   "source": [
    "*The accuracy of this train model is 62%, precision of 595 and \n",
    "  recall of 77% suggests that the model is good but could be better with complex pre-processing"
   ]
  },
  {
   "cell_type": "code",
   "execution_count": 458,
   "id": "9c447dda",
   "metadata": {},
   "outputs": [],
   "source": [
    "# plot of the metrics \n",
    "\n",
    "def plot_graphs(train_ds, metrics):\n",
    "    plt.plot(train_ds.train_ds[metric])\n",
    "    plt.plot(train_ds.train_ds['val_'+metric], '')\n",
    "    plt.xlabel(\"epochs\")\n",
    "    plt.ylabel(metric)\n",
    "    plt.legend([metric, 'val_'+metric])"
   ]
  },
  {
   "cell_type": "code",
   "execution_count": 358,
   "id": "0f32cebf",
   "metadata": {},
   "outputs": [],
   "source": [
    "# plot =plot_graphs(train_ds, 'io')\n",
    "# plot"
   ]
  },
  {
   "cell_type": "markdown",
   "id": "18927a22",
   "metadata": {},
   "source": [
    "## Testing the stack on a RNN model "
   ]
  },
  {
   "cell_type": "code",
   "execution_count": 306,
   "id": "b9b331ce",
   "metadata": {},
   "outputs": [
    {
     "name": "stdout",
     "output_type": "stream",
     "text": [
      "Epoch 1/10\n",
      "40/40 [==============================] - 1s 9ms/step - loss: 0.3192 - val_loss: 0.2505\n",
      "Epoch 2/10\n",
      "40/40 [==============================] - 0s 7ms/step - loss: 0.2521 - val_loss: 0.2533\n",
      "Epoch 3/10\n",
      "40/40 [==============================] - 0s 7ms/step - loss: 0.2518 - val_loss: 0.2539\n",
      "Epoch 4/10\n",
      "40/40 [==============================] - 0s 7ms/step - loss: 0.2518 - val_loss: 0.2539\n",
      "Epoch 5/10\n",
      "40/40 [==============================] - 0s 7ms/step - loss: 0.2517 - val_loss: 0.2538\n",
      "Epoch 6/10\n",
      "40/40 [==============================] - 0s 7ms/step - loss: 0.2517 - val_loss: 0.2538\n",
      "Epoch 7/10\n",
      "40/40 [==============================] - 0s 7ms/step - loss: 0.2516 - val_loss: 0.2537\n",
      "Epoch 8/10\n",
      "40/40 [==============================] - 0s 7ms/step - loss: 0.2516 - val_loss: 0.2537\n",
      "Epoch 9/10\n",
      "40/40 [==============================] - 0s 7ms/step - loss: 0.2515 - val_loss: 0.2536\n",
      "Epoch 10/10\n",
      "40/40 [==============================] - 0s 7ms/step - loss: 0.2515 - val_loss: 0.2536\n"
     ]
    },
    {
     "data": {
      "text/plain": [
       "<keras.callbacks.History at 0x1ca3818ed60>"
      ]
     },
     "execution_count": 306,
     "metadata": {},
     "output_type": "execute_result"
    }
   ],
   "source": [
    "from keras.layers import RNN\n",
    "from keras import backend\n",
    "\n",
    "# or the first time you call the model on some input data.\n",
    "model = tf.keras.Sequential()\n",
    "model.add(layers.Embedding(max_features,output_dim=64))\n",
    "model.add(tf.keras.layers.Dense(8))\n",
    "model.add(tf.keras.layers.Dense(1))\n",
    "model.compile(optimizer='sgd', loss='mse')\n",
    "# This builds the model for the first time:\n",
    "model.fit(train_ds, validation_data=val_ds, batch_size =32, epochs=10)"
   ]
  },
  {
   "cell_type": "code",
   "execution_count": 307,
   "id": "73c32af3",
   "metadata": {},
   "outputs": [
    {
     "name": "stdout",
     "output_type": "stream",
     "text": [
      "13/13 [==============================] - 0s 3ms/step - loss: 0.2518\n",
      "Test Accuracy: 0.2518061399459839\n",
      "Test Loss: 0.6931416988372803\n"
     ]
    }
   ],
   "source": [
    "test_acc = model.evaluate(test_ds)\n",
    "print('Test Accuracy:', test_acc)\n",
    "print('Test Loss:', test_loss)\n"
   ]
  },
  {
   "cell_type": "markdown",
   "id": "517b5371",
   "metadata": {},
   "source": [
    "* huge error on a large dataset was made. complex preprocessing is needed"
   ]
  },
  {
   "cell_type": "code",
   "execution_count": null,
   "id": "2e8a5e68",
   "metadata": {},
   "outputs": [],
   "source": []
  }
 ],
 "metadata": {
  "kernelspec": {
   "display_name": "Python 3 (ipykernel)",
   "language": "python",
   "name": "python3"
  },
  "language_info": {
   "codemirror_mode": {
    "name": "ipython",
    "version": 3
   },
   "file_extension": ".py",
   "mimetype": "text/x-python",
   "name": "python",
   "nbconvert_exporter": "python",
   "pygments_lexer": "ipython3",
   "version": "3.9.13"
  }
 },
 "nbformat": 4,
 "nbformat_minor": 5
}
